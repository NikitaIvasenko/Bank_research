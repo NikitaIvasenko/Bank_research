{
 "cells": [
  {
   "cell_type": "markdown",
   "id": "cec093f6",
   "metadata": {
    "deletable": false,
    "editable": false,
    "id": "c81daeeb"
   },
   "source": [
    "# Исследование надежности заемщиков\n"
   ]
  },
  {
   "cell_type": "markdown",
   "id": "fc0bef58",
   "metadata": {
    "deletable": false,
    "editable": false,
    "id": "827c20bf"
   },
   "source": [
    "Во второй части проекта вы выполните шаги 3 и 4. Их вручную проверит ревьюер.\n",
    "Чтобы вам не пришлось писать код заново для шагов 1 и 2, мы добавили авторские решения в ячейки с кодом. \n",
    "\n"
   ]
  },
  {
   "cell_type": "markdown",
   "id": "a5bd41b4",
   "metadata": {
    "deletable": false,
    "editable": false,
    "id": "744d7639"
   },
   "source": [
    "## Откройте таблицу и изучите общую информацию о данных"
   ]
  },
  {
   "cell_type": "markdown",
   "id": "fc569251",
   "metadata": {
    "deletable": false,
    "editable": false,
    "id": "e7a14c31"
   },
   "source": [
    "**Задание 1. Импортируйте библиотеку pandas. Считайте данные из csv-файла в датафрейм и сохраните в переменную `data`. Путь к файлу:**\n",
    "\n",
    "`/datasets/data.csv`"
   ]
  },
  {
   "cell_type": "code",
   "execution_count": 1,
   "id": "ba55cbb2",
   "metadata": {
    "deletable": false,
    "id": "7bcf75c9"
   },
   "outputs": [],
   "source": [
    "import pandas as pd\n",
    "\n",
    "try:\n",
    "    data = pd.read_csv('/datasets/data.csv')\n",
    "except:\n",
    "    data = pd.read_csv('https://code.s3.yandex.net/datasets/data.csv')"
   ]
  },
  {
   "cell_type": "markdown",
   "id": "1ef9b41a",
   "metadata": {
    "deletable": false,
    "editable": false,
    "id": "b8038fe3"
   },
   "source": [
    "**Задание 2. Выведите первые 20 строчек датафрейма `data` на экран.**"
   ]
  },
  {
   "cell_type": "code",
   "execution_count": 2,
   "id": "f7fbf261",
   "metadata": {
    "deletable": false,
    "id": "2a7cab99",
    "outputId": "1a8f3ef2-d323-4ec2-ddf7-89670b5944c4",
    "scrolled": true
   },
   "outputs": [
    {
     "data": {
      "text/html": [
       "<div>\n",
       "<style scoped>\n",
       "    .dataframe tbody tr th:only-of-type {\n",
       "        vertical-align: middle;\n",
       "    }\n",
       "\n",
       "    .dataframe tbody tr th {\n",
       "        vertical-align: top;\n",
       "    }\n",
       "\n",
       "    .dataframe thead th {\n",
       "        text-align: right;\n",
       "    }\n",
       "</style>\n",
       "<table border=\"1\" class=\"dataframe\">\n",
       "  <thead>\n",
       "    <tr style=\"text-align: right;\">\n",
       "      <th></th>\n",
       "      <th>children</th>\n",
       "      <th>days_employed</th>\n",
       "      <th>dob_years</th>\n",
       "      <th>education</th>\n",
       "      <th>education_id</th>\n",
       "      <th>family_status</th>\n",
       "      <th>family_status_id</th>\n",
       "      <th>gender</th>\n",
       "      <th>income_type</th>\n",
       "      <th>debt</th>\n",
       "      <th>total_income</th>\n",
       "      <th>purpose</th>\n",
       "    </tr>\n",
       "  </thead>\n",
       "  <tbody>\n",
       "    <tr>\n",
       "      <th>0</th>\n",
       "      <td>1</td>\n",
       "      <td>-8437.673028</td>\n",
       "      <td>42</td>\n",
       "      <td>высшее</td>\n",
       "      <td>0</td>\n",
       "      <td>женат / замужем</td>\n",
       "      <td>0</td>\n",
       "      <td>F</td>\n",
       "      <td>сотрудник</td>\n",
       "      <td>0</td>\n",
       "      <td>253875.639453</td>\n",
       "      <td>покупка жилья</td>\n",
       "    </tr>\n",
       "    <tr>\n",
       "      <th>1</th>\n",
       "      <td>1</td>\n",
       "      <td>-4024.803754</td>\n",
       "      <td>36</td>\n",
       "      <td>среднее</td>\n",
       "      <td>1</td>\n",
       "      <td>женат / замужем</td>\n",
       "      <td>0</td>\n",
       "      <td>F</td>\n",
       "      <td>сотрудник</td>\n",
       "      <td>0</td>\n",
       "      <td>112080.014102</td>\n",
       "      <td>приобретение автомобиля</td>\n",
       "    </tr>\n",
       "    <tr>\n",
       "      <th>2</th>\n",
       "      <td>0</td>\n",
       "      <td>-5623.422610</td>\n",
       "      <td>33</td>\n",
       "      <td>Среднее</td>\n",
       "      <td>1</td>\n",
       "      <td>женат / замужем</td>\n",
       "      <td>0</td>\n",
       "      <td>M</td>\n",
       "      <td>сотрудник</td>\n",
       "      <td>0</td>\n",
       "      <td>145885.952297</td>\n",
       "      <td>покупка жилья</td>\n",
       "    </tr>\n",
       "    <tr>\n",
       "      <th>3</th>\n",
       "      <td>3</td>\n",
       "      <td>-4124.747207</td>\n",
       "      <td>32</td>\n",
       "      <td>среднее</td>\n",
       "      <td>1</td>\n",
       "      <td>женат / замужем</td>\n",
       "      <td>0</td>\n",
       "      <td>M</td>\n",
       "      <td>сотрудник</td>\n",
       "      <td>0</td>\n",
       "      <td>267628.550329</td>\n",
       "      <td>дополнительное образование</td>\n",
       "    </tr>\n",
       "    <tr>\n",
       "      <th>4</th>\n",
       "      <td>0</td>\n",
       "      <td>340266.072047</td>\n",
       "      <td>53</td>\n",
       "      <td>среднее</td>\n",
       "      <td>1</td>\n",
       "      <td>гражданский брак</td>\n",
       "      <td>1</td>\n",
       "      <td>F</td>\n",
       "      <td>пенсионер</td>\n",
       "      <td>0</td>\n",
       "      <td>158616.077870</td>\n",
       "      <td>сыграть свадьбу</td>\n",
       "    </tr>\n",
       "    <tr>\n",
       "      <th>5</th>\n",
       "      <td>0</td>\n",
       "      <td>-926.185831</td>\n",
       "      <td>27</td>\n",
       "      <td>высшее</td>\n",
       "      <td>0</td>\n",
       "      <td>гражданский брак</td>\n",
       "      <td>1</td>\n",
       "      <td>M</td>\n",
       "      <td>компаньон</td>\n",
       "      <td>0</td>\n",
       "      <td>255763.565419</td>\n",
       "      <td>покупка жилья</td>\n",
       "    </tr>\n",
       "    <tr>\n",
       "      <th>6</th>\n",
       "      <td>0</td>\n",
       "      <td>-2879.202052</td>\n",
       "      <td>43</td>\n",
       "      <td>высшее</td>\n",
       "      <td>0</td>\n",
       "      <td>женат / замужем</td>\n",
       "      <td>0</td>\n",
       "      <td>F</td>\n",
       "      <td>компаньон</td>\n",
       "      <td>0</td>\n",
       "      <td>240525.971920</td>\n",
       "      <td>операции с жильем</td>\n",
       "    </tr>\n",
       "    <tr>\n",
       "      <th>7</th>\n",
       "      <td>0</td>\n",
       "      <td>-152.779569</td>\n",
       "      <td>50</td>\n",
       "      <td>СРЕДНЕЕ</td>\n",
       "      <td>1</td>\n",
       "      <td>женат / замужем</td>\n",
       "      <td>0</td>\n",
       "      <td>M</td>\n",
       "      <td>сотрудник</td>\n",
       "      <td>0</td>\n",
       "      <td>135823.934197</td>\n",
       "      <td>образование</td>\n",
       "    </tr>\n",
       "    <tr>\n",
       "      <th>8</th>\n",
       "      <td>2</td>\n",
       "      <td>-6929.865299</td>\n",
       "      <td>35</td>\n",
       "      <td>ВЫСШЕЕ</td>\n",
       "      <td>0</td>\n",
       "      <td>гражданский брак</td>\n",
       "      <td>1</td>\n",
       "      <td>F</td>\n",
       "      <td>сотрудник</td>\n",
       "      <td>0</td>\n",
       "      <td>95856.832424</td>\n",
       "      <td>на проведение свадьбы</td>\n",
       "    </tr>\n",
       "    <tr>\n",
       "      <th>9</th>\n",
       "      <td>0</td>\n",
       "      <td>-2188.756445</td>\n",
       "      <td>41</td>\n",
       "      <td>среднее</td>\n",
       "      <td>1</td>\n",
       "      <td>женат / замужем</td>\n",
       "      <td>0</td>\n",
       "      <td>M</td>\n",
       "      <td>сотрудник</td>\n",
       "      <td>0</td>\n",
       "      <td>144425.938277</td>\n",
       "      <td>покупка жилья для семьи</td>\n",
       "    </tr>\n",
       "    <tr>\n",
       "      <th>10</th>\n",
       "      <td>2</td>\n",
       "      <td>-4171.483647</td>\n",
       "      <td>36</td>\n",
       "      <td>высшее</td>\n",
       "      <td>0</td>\n",
       "      <td>женат / замужем</td>\n",
       "      <td>0</td>\n",
       "      <td>M</td>\n",
       "      <td>компаньон</td>\n",
       "      <td>0</td>\n",
       "      <td>113943.491460</td>\n",
       "      <td>покупка недвижимости</td>\n",
       "    </tr>\n",
       "    <tr>\n",
       "      <th>11</th>\n",
       "      <td>0</td>\n",
       "      <td>-792.701887</td>\n",
       "      <td>40</td>\n",
       "      <td>среднее</td>\n",
       "      <td>1</td>\n",
       "      <td>женат / замужем</td>\n",
       "      <td>0</td>\n",
       "      <td>F</td>\n",
       "      <td>сотрудник</td>\n",
       "      <td>0</td>\n",
       "      <td>77069.234271</td>\n",
       "      <td>покупка коммерческой недвижимости</td>\n",
       "    </tr>\n",
       "    <tr>\n",
       "      <th>12</th>\n",
       "      <td>0</td>\n",
       "      <td>NaN</td>\n",
       "      <td>65</td>\n",
       "      <td>среднее</td>\n",
       "      <td>1</td>\n",
       "      <td>гражданский брак</td>\n",
       "      <td>1</td>\n",
       "      <td>M</td>\n",
       "      <td>пенсионер</td>\n",
       "      <td>0</td>\n",
       "      <td>NaN</td>\n",
       "      <td>сыграть свадьбу</td>\n",
       "    </tr>\n",
       "    <tr>\n",
       "      <th>13</th>\n",
       "      <td>0</td>\n",
       "      <td>-1846.641941</td>\n",
       "      <td>54</td>\n",
       "      <td>неоконченное высшее</td>\n",
       "      <td>2</td>\n",
       "      <td>женат / замужем</td>\n",
       "      <td>0</td>\n",
       "      <td>F</td>\n",
       "      <td>сотрудник</td>\n",
       "      <td>0</td>\n",
       "      <td>130458.228857</td>\n",
       "      <td>приобретение автомобиля</td>\n",
       "    </tr>\n",
       "    <tr>\n",
       "      <th>14</th>\n",
       "      <td>0</td>\n",
       "      <td>-1844.956182</td>\n",
       "      <td>56</td>\n",
       "      <td>высшее</td>\n",
       "      <td>0</td>\n",
       "      <td>гражданский брак</td>\n",
       "      <td>1</td>\n",
       "      <td>F</td>\n",
       "      <td>компаньон</td>\n",
       "      <td>1</td>\n",
       "      <td>165127.911772</td>\n",
       "      <td>покупка жилой недвижимости</td>\n",
       "    </tr>\n",
       "    <tr>\n",
       "      <th>15</th>\n",
       "      <td>1</td>\n",
       "      <td>-972.364419</td>\n",
       "      <td>26</td>\n",
       "      <td>среднее</td>\n",
       "      <td>1</td>\n",
       "      <td>женат / замужем</td>\n",
       "      <td>0</td>\n",
       "      <td>F</td>\n",
       "      <td>сотрудник</td>\n",
       "      <td>0</td>\n",
       "      <td>116820.904450</td>\n",
       "      <td>строительство собственной недвижимости</td>\n",
       "    </tr>\n",
       "    <tr>\n",
       "      <th>16</th>\n",
       "      <td>0</td>\n",
       "      <td>-1719.934226</td>\n",
       "      <td>35</td>\n",
       "      <td>среднее</td>\n",
       "      <td>1</td>\n",
       "      <td>женат / замужем</td>\n",
       "      <td>0</td>\n",
       "      <td>F</td>\n",
       "      <td>сотрудник</td>\n",
       "      <td>0</td>\n",
       "      <td>289202.704229</td>\n",
       "      <td>недвижимость</td>\n",
       "    </tr>\n",
       "    <tr>\n",
       "      <th>17</th>\n",
       "      <td>0</td>\n",
       "      <td>-2369.999720</td>\n",
       "      <td>33</td>\n",
       "      <td>высшее</td>\n",
       "      <td>0</td>\n",
       "      <td>гражданский брак</td>\n",
       "      <td>1</td>\n",
       "      <td>M</td>\n",
       "      <td>сотрудник</td>\n",
       "      <td>0</td>\n",
       "      <td>90410.586745</td>\n",
       "      <td>строительство недвижимости</td>\n",
       "    </tr>\n",
       "    <tr>\n",
       "      <th>18</th>\n",
       "      <td>0</td>\n",
       "      <td>400281.136913</td>\n",
       "      <td>53</td>\n",
       "      <td>среднее</td>\n",
       "      <td>1</td>\n",
       "      <td>вдовец / вдова</td>\n",
       "      <td>2</td>\n",
       "      <td>F</td>\n",
       "      <td>пенсионер</td>\n",
       "      <td>0</td>\n",
       "      <td>56823.777243</td>\n",
       "      <td>на покупку подержанного автомобиля</td>\n",
       "    </tr>\n",
       "    <tr>\n",
       "      <th>19</th>\n",
       "      <td>0</td>\n",
       "      <td>-10038.818549</td>\n",
       "      <td>48</td>\n",
       "      <td>СРЕДНЕЕ</td>\n",
       "      <td>1</td>\n",
       "      <td>в разводе</td>\n",
       "      <td>3</td>\n",
       "      <td>F</td>\n",
       "      <td>сотрудник</td>\n",
       "      <td>0</td>\n",
       "      <td>242831.107982</td>\n",
       "      <td>на покупку своего автомобиля</td>\n",
       "    </tr>\n",
       "  </tbody>\n",
       "</table>\n",
       "</div>"
      ],
      "text/plain": [
       "    children  days_employed  dob_years            education  education_id  \\\n",
       "0          1   -8437.673028         42               высшее             0   \n",
       "1          1   -4024.803754         36              среднее             1   \n",
       "2          0   -5623.422610         33              Среднее             1   \n",
       "3          3   -4124.747207         32              среднее             1   \n",
       "4          0  340266.072047         53              среднее             1   \n",
       "5          0    -926.185831         27               высшее             0   \n",
       "6          0   -2879.202052         43               высшее             0   \n",
       "7          0    -152.779569         50              СРЕДНЕЕ             1   \n",
       "8          2   -6929.865299         35               ВЫСШЕЕ             0   \n",
       "9          0   -2188.756445         41              среднее             1   \n",
       "10         2   -4171.483647         36               высшее             0   \n",
       "11         0    -792.701887         40              среднее             1   \n",
       "12         0            NaN         65              среднее             1   \n",
       "13         0   -1846.641941         54  неоконченное высшее             2   \n",
       "14         0   -1844.956182         56               высшее             0   \n",
       "15         1    -972.364419         26              среднее             1   \n",
       "16         0   -1719.934226         35              среднее             1   \n",
       "17         0   -2369.999720         33               высшее             0   \n",
       "18         0  400281.136913         53              среднее             1   \n",
       "19         0  -10038.818549         48              СРЕДНЕЕ             1   \n",
       "\n",
       "       family_status  family_status_id gender income_type  debt  \\\n",
       "0    женат / замужем                 0      F   сотрудник     0   \n",
       "1    женат / замужем                 0      F   сотрудник     0   \n",
       "2    женат / замужем                 0      M   сотрудник     0   \n",
       "3    женат / замужем                 0      M   сотрудник     0   \n",
       "4   гражданский брак                 1      F   пенсионер     0   \n",
       "5   гражданский брак                 1      M   компаньон     0   \n",
       "6    женат / замужем                 0      F   компаньон     0   \n",
       "7    женат / замужем                 0      M   сотрудник     0   \n",
       "8   гражданский брак                 1      F   сотрудник     0   \n",
       "9    женат / замужем                 0      M   сотрудник     0   \n",
       "10   женат / замужем                 0      M   компаньон     0   \n",
       "11   женат / замужем                 0      F   сотрудник     0   \n",
       "12  гражданский брак                 1      M   пенсионер     0   \n",
       "13   женат / замужем                 0      F   сотрудник     0   \n",
       "14  гражданский брак                 1      F   компаньон     1   \n",
       "15   женат / замужем                 0      F   сотрудник     0   \n",
       "16   женат / замужем                 0      F   сотрудник     0   \n",
       "17  гражданский брак                 1      M   сотрудник     0   \n",
       "18    вдовец / вдова                 2      F   пенсионер     0   \n",
       "19         в разводе                 3      F   сотрудник     0   \n",
       "\n",
       "     total_income                                 purpose  \n",
       "0   253875.639453                           покупка жилья  \n",
       "1   112080.014102                 приобретение автомобиля  \n",
       "2   145885.952297                           покупка жилья  \n",
       "3   267628.550329              дополнительное образование  \n",
       "4   158616.077870                         сыграть свадьбу  \n",
       "5   255763.565419                           покупка жилья  \n",
       "6   240525.971920                       операции с жильем  \n",
       "7   135823.934197                             образование  \n",
       "8    95856.832424                   на проведение свадьбы  \n",
       "9   144425.938277                 покупка жилья для семьи  \n",
       "10  113943.491460                    покупка недвижимости  \n",
       "11   77069.234271       покупка коммерческой недвижимости  \n",
       "12            NaN                         сыграть свадьбу  \n",
       "13  130458.228857                 приобретение автомобиля  \n",
       "14  165127.911772              покупка жилой недвижимости  \n",
       "15  116820.904450  строительство собственной недвижимости  \n",
       "16  289202.704229                            недвижимость  \n",
       "17   90410.586745              строительство недвижимости  \n",
       "18   56823.777243      на покупку подержанного автомобиля  \n",
       "19  242831.107982            на покупку своего автомобиля  "
      ]
     },
     "execution_count": 2,
     "metadata": {},
     "output_type": "execute_result"
    }
   ],
   "source": [
    "data.head(20)"
   ]
  },
  {
   "cell_type": "markdown",
   "id": "065f3976",
   "metadata": {
    "deletable": false,
    "editable": false,
    "id": "1c12e233"
   },
   "source": [
    "**Задание 3. Выведите основную информацию о датафрейме с помощью метода `info()`.**"
   ]
  },
  {
   "cell_type": "code",
   "execution_count": 3,
   "id": "3b7d8bb7",
   "metadata": {
    "deletable": false,
    "id": "2b757bca",
    "outputId": "15376089-8dad-46c9-b520-c05248d43158",
    "scrolled": true
   },
   "outputs": [
    {
     "name": "stdout",
     "output_type": "stream",
     "text": [
      "<class 'pandas.core.frame.DataFrame'>\n",
      "RangeIndex: 21525 entries, 0 to 21524\n",
      "Data columns (total 12 columns):\n",
      " #   Column            Non-Null Count  Dtype  \n",
      "---  ------            --------------  -----  \n",
      " 0   children          21525 non-null  int64  \n",
      " 1   days_employed     19351 non-null  float64\n",
      " 2   dob_years         21525 non-null  int64  \n",
      " 3   education         21525 non-null  object \n",
      " 4   education_id      21525 non-null  int64  \n",
      " 5   family_status     21525 non-null  object \n",
      " 6   family_status_id  21525 non-null  int64  \n",
      " 7   gender            21525 non-null  object \n",
      " 8   income_type       21525 non-null  object \n",
      " 9   debt              21525 non-null  int64  \n",
      " 10  total_income      19351 non-null  float64\n",
      " 11  purpose           21525 non-null  object \n",
      "dtypes: float64(2), int64(5), object(5)\n",
      "memory usage: 2.0+ MB\n"
     ]
    }
   ],
   "source": [
    "data.info()"
   ]
  },
  {
   "cell_type": "markdown",
   "id": "ee658d8d",
   "metadata": {
    "deletable": false,
    "editable": false,
    "id": "333ec665"
   },
   "source": [
    "## Предобработка данных"
   ]
  },
  {
   "cell_type": "markdown",
   "id": "68e70088",
   "metadata": {
    "deletable": false,
    "editable": false,
    "id": "02d92d53"
   },
   "source": [
    "### Удаление пропусков"
   ]
  },
  {
   "cell_type": "markdown",
   "id": "add8d4f1",
   "metadata": {
    "deletable": false,
    "editable": false,
    "id": "cd84967c"
   },
   "source": [
    "**Задание 4. Выведите количество пропущенных значений для каждого столбца. Используйте комбинацию двух методов.**"
   ]
  },
  {
   "cell_type": "code",
   "execution_count": 4,
   "id": "5c766f1e",
   "metadata": {
    "deletable": false,
    "id": "7f9b2309",
    "outputId": "81f4d817-781c-465c-ed15-91ce4446810d"
   },
   "outputs": [
    {
     "data": {
      "text/plain": [
       "children               0\n",
       "days_employed       2174\n",
       "dob_years              0\n",
       "education              0\n",
       "education_id           0\n",
       "family_status          0\n",
       "family_status_id       0\n",
       "gender                 0\n",
       "income_type            0\n",
       "debt                   0\n",
       "total_income        2174\n",
       "purpose                0\n",
       "dtype: int64"
      ]
     },
     "execution_count": 4,
     "metadata": {},
     "output_type": "execute_result"
    }
   ],
   "source": [
    "data.isna().sum()"
   ]
  },
  {
   "cell_type": "code",
   "execution_count": 5,
   "id": "4f1c2635",
   "metadata": {},
   "outputs": [
    {
     "name": "stdout",
     "output_type": "stream",
     "text": [
      "Empty DataFrame\n",
      "Columns: [children, days_employed, dob_years, education, education_id, family_status, family_status_id, gender, income_type, debt, total_income, purpose]\n",
      "Index: []\n"
     ]
    }
   ],
   "source": [
    "rows = data['total_income'] == '\\n'\n",
    "print(data.loc[rows])"
   ]
  },
  {
   "cell_type": "code",
   "execution_count": 6,
   "id": "0621e389",
   "metadata": {},
   "outputs": [
    {
     "data": {
      "text/plain": [
       "<bound method Series.unique of 0        253875.639453\n",
       "1        112080.014102\n",
       "2        145885.952297\n",
       "3        267628.550329\n",
       "4        158616.077870\n",
       "             ...      \n",
       "21520    224791.862382\n",
       "21521    155999.806512\n",
       "21522     89672.561153\n",
       "21523    244093.050500\n",
       "21524     82047.418899\n",
       "Name: total_income, Length: 21525, dtype: float64>"
      ]
     },
     "execution_count": 6,
     "metadata": {},
     "output_type": "execute_result"
    }
   ],
   "source": [
    "data['total_income'].unique"
   ]
  },
  {
   "cell_type": "markdown",
   "id": "12678fd6",
   "metadata": {
    "deletable": false,
    "editable": false,
    "id": "db86e27b"
   },
   "source": [
    "**Задание 5. В двух столбцах есть пропущенные значения. Один из них — `days_employed`. Пропуски в этом столбце вы обработаете на следующем этапе. Другой столбец с пропущенными значениями — `total_income` — хранит данные о доходах. На сумму дохода сильнее всего влияет тип занятости, поэтому заполнить пропуски в этом столбце нужно медианным значением по каждому типу из столбца `income_type`. Например, у человека с типом занятости `сотрудник` пропуск в столбце `total_income` должен быть заполнен медианным доходом среди всех записей с тем же типом.**"
   ]
  },
  {
   "cell_type": "code",
   "execution_count": 7,
   "id": "830e3e89",
   "metadata": {
    "deletable": false,
    "id": "42006a93"
   },
   "outputs": [],
   "source": [
    "for t in data['income_type'].unique():\n",
    "    data.loc[(data['income_type'] == t) & (data['total_income'].isna()), 'total_income'] = \\\n",
    "    data.loc[(data['income_type'] == t), 'total_income'].median()"
   ]
  },
  {
   "cell_type": "markdown",
   "id": "14522445",
   "metadata": {
    "deletable": false,
    "editable": false,
    "id": "89da5ece"
   },
   "source": [
    "### Обработка аномальных значений"
   ]
  },
  {
   "cell_type": "markdown",
   "id": "d993f19d",
   "metadata": {
    "deletable": false,
    "editable": false,
    "id": "57964554"
   },
   "source": [
    "**Задание 6. В данных могут встречаться артефакты (аномалии) — значения, которые не отражают действительность и появились по какой-то ошибке. таким артефактом будет отрицательное количество дней трудового стажа в столбце `days_employed`. Для реальных данных это нормально. Обработайте значения в этом столбце: замените все отрицательные значения положительными с помощью метода `abs()`.**"
   ]
  },
  {
   "cell_type": "code",
   "execution_count": 8,
   "id": "30523300",
   "metadata": {
    "deletable": false,
    "id": "f6f055bf"
   },
   "outputs": [],
   "source": [
    "data['days_employed'] = data['days_employed'].abs()"
   ]
  },
  {
   "cell_type": "markdown",
   "id": "675bdef8",
   "metadata": {
    "deletable": false,
    "editable": false,
    "id": "6107dd2f"
   },
   "source": [
    "**Задание 7. Для каждого типа занятости выведите медианное значение трудового стажа `days_employed` в днях.**"
   ]
  },
  {
   "cell_type": "code",
   "execution_count": 9,
   "id": "da8f5a2d",
   "metadata": {
    "deletable": false,
    "id": "85a5faf6",
    "outputId": "801ef80e-522b-4668-f34e-565af7432bcf"
   },
   "outputs": [
    {
     "data": {
      "text/plain": [
       "income_type\n",
       "безработный        366413.652744\n",
       "в декрете            3296.759962\n",
       "госслужащий          2689.368353\n",
       "компаньон            1547.382223\n",
       "пенсионер          365213.306266\n",
       "предприниматель       520.848083\n",
       "сотрудник            1574.202821\n",
       "студент               578.751554\n",
       "Name: days_employed, dtype: float64"
      ]
     },
     "execution_count": 9,
     "metadata": {},
     "output_type": "execute_result"
    }
   ],
   "source": [
    "data.groupby('income_type')['days_employed'].agg('median')"
   ]
  },
  {
   "cell_type": "markdown",
   "id": "a8cd0810",
   "metadata": {
    "deletable": false,
    "editable": false,
    "id": "38d1a030"
   },
   "source": [
    "У двух типов (безработные и пенсионеры) получатся аномально большие значения. Исправить такие значения сложно, поэтому оставьте их как есть. Тем более этот столбец не понадобится вам для исследования."
   ]
  },
  {
   "cell_type": "markdown",
   "id": "d3d9bab8",
   "metadata": {
    "deletable": false,
    "editable": false,
    "id": "d8a9f147"
   },
   "source": [
    "**Задание 8. Выведите перечень уникальных значений столбца `children`.**"
   ]
  },
  {
   "cell_type": "code",
   "execution_count": 10,
   "id": "d19bd16e",
   "metadata": {
    "deletable": false,
    "id": "ef5056eb",
    "outputId": "6975b15c-7f95-4697-d16d-a0c79b657b03"
   },
   "outputs": [
    {
     "data": {
      "text/plain": [
       "array([ 1,  0,  3,  2, -1,  4, 20,  5], dtype=int64)"
      ]
     },
     "execution_count": 10,
     "metadata": {},
     "output_type": "execute_result"
    }
   ],
   "source": [
    "data['children'].unique()"
   ]
  },
  {
   "cell_type": "markdown",
   "id": "d9ea6def",
   "metadata": {
    "deletable": false,
    "editable": false,
    "id": "40b9ebf2"
   },
   "source": [
    "**Задание 9. В столбце `children` есть два аномальных значения. Удалите строки, в которых встречаются такие аномальные значения из датафрейма `data`.**"
   ]
  },
  {
   "cell_type": "code",
   "execution_count": 11,
   "id": "074c3f3a",
   "metadata": {
    "deletable": false,
    "id": "3ff9801d"
   },
   "outputs": [],
   "source": [
    "data = data[(data['children'] != -1) & (data['children'] != 20)]"
   ]
  },
  {
   "cell_type": "markdown",
   "id": "d8680210",
   "metadata": {
    "deletable": false,
    "editable": false,
    "id": "bbc4d0ce"
   },
   "source": [
    "**Задание 10. Ещё раз выведите перечень уникальных значений столбца `children`, чтобы убедиться, что артефакты удалены.**"
   ]
  },
  {
   "cell_type": "code",
   "execution_count": 12,
   "id": "eefff111",
   "metadata": {
    "deletable": false,
    "id": "ad4fa8b7",
    "outputId": "b2097101-d49d-44d9-901b-32a65c9463d1"
   },
   "outputs": [
    {
     "data": {
      "text/plain": [
       "array([1, 0, 3, 2, 4, 5], dtype=int64)"
      ]
     },
     "execution_count": 12,
     "metadata": {},
     "output_type": "execute_result"
    }
   ],
   "source": [
    "data['children'].unique()"
   ]
  },
  {
   "cell_type": "markdown",
   "id": "5b02425c",
   "metadata": {
    "deletable": false,
    "editable": false,
    "id": "75440b63"
   },
   "source": [
    "### Удаление пропусков (продолжение)"
   ]
  },
  {
   "cell_type": "markdown",
   "id": "302cff21",
   "metadata": {
    "deletable": false,
    "editable": false,
    "id": "f4ea573f"
   },
   "source": [
    "**Задание 11. Заполните пропуски в столбце `days_employed` медианными значениями по каждого типа занятости `income_type`.**"
   ]
  },
  {
   "cell_type": "code",
   "execution_count": 13,
   "id": "8c7748c8",
   "metadata": {
    "deletable": false,
    "id": "af6b1a7e"
   },
   "outputs": [],
   "source": [
    "for t in data['income_type'].unique():\n",
    "    data.loc[(data['income_type'] == t) & (data['days_employed'].isna()), 'days_employed'] = \\\n",
    "    data.loc[(data['income_type'] == t), 'days_employed'].median()"
   ]
  },
  {
   "cell_type": "markdown",
   "id": "ddd7a44d",
   "metadata": {
    "deletable": false,
    "editable": false,
    "id": "2753f40d"
   },
   "source": [
    "**Задание 12. Убедитесь, что все пропуски заполнены. Проверьте себя и ещё раз выведите количество пропущенных значений для каждого столбца с помощью двух методов.**"
   ]
  },
  {
   "cell_type": "code",
   "execution_count": 14,
   "id": "e365361e",
   "metadata": {
    "deletable": false,
    "id": "55f78bc2",
    "outputId": "8da1e4e1-358e-4e87-98c9-f261bce0a7b2"
   },
   "outputs": [
    {
     "data": {
      "text/plain": [
       "children            0\n",
       "days_employed       0\n",
       "dob_years           0\n",
       "education           0\n",
       "education_id        0\n",
       "family_status       0\n",
       "family_status_id    0\n",
       "gender              0\n",
       "income_type         0\n",
       "debt                0\n",
       "total_income        0\n",
       "purpose             0\n",
       "dtype: int64"
      ]
     },
     "execution_count": 14,
     "metadata": {},
     "output_type": "execute_result"
    }
   ],
   "source": [
    "data.isna().sum()"
   ]
  },
  {
   "cell_type": "markdown",
   "id": "d52498d2",
   "metadata": {
    "deletable": false,
    "editable": false,
    "id": "ddc81e43"
   },
   "source": [
    "### Изменение типов данных"
   ]
  },
  {
   "cell_type": "markdown",
   "id": "e0608611",
   "metadata": {
    "deletable": false,
    "editable": false,
    "id": "42d19d24"
   },
   "source": [
    "**Задание 13. Замените вещественный тип данных в столбце `total_income` на целочисленный с помощью метода `astype()`.**"
   ]
  },
  {
   "cell_type": "code",
   "execution_count": 15,
   "id": "291784a6",
   "metadata": {
    "deletable": false,
    "id": "920b65ad"
   },
   "outputs": [],
   "source": [
    "data['total_income'] = data['total_income'].astype(int)"
   ]
  },
  {
   "cell_type": "markdown",
   "id": "455eb5fb",
   "metadata": {
    "deletable": false,
    "editable": false,
    "id": "80c420ba"
   },
   "source": [
    "### Обработка дубликатов"
   ]
  },
  {
   "cell_type": "markdown",
   "id": "ad6eff13",
   "metadata": {
    "deletable": false,
    "editable": false
   },
   "source": [
    "**Задание 14. Обработайте неявные дубликаты в столбце `education`. В этом столбце есть одни и те же значения, но записанные по-разному: с использованием заглавных и строчных букв. Приведите их к нижнему регистру. Проверьте остальные столбцы.**"
   ]
  },
  {
   "cell_type": "code",
   "execution_count": 16,
   "id": "a51d3c96",
   "metadata": {
    "deletable": false
   },
   "outputs": [],
   "source": [
    "data['education'] = data['education'].str.lower()"
   ]
  },
  {
   "cell_type": "markdown",
   "id": "97f3209d",
   "metadata": {
    "deletable": false,
    "editable": false,
    "id": "dc587695"
   },
   "source": [
    "**Задание 15. Выведите на экран количество строк-дубликатов в данных. Если такие строки присутствуют, удалите их.**"
   ]
  },
  {
   "cell_type": "code",
   "execution_count": 17,
   "id": "5a033ebc",
   "metadata": {
    "deletable": false,
    "id": "3ee445e4",
    "outputId": "9684deba-1934-42d1-99e1-cda61740f822"
   },
   "outputs": [
    {
     "data": {
      "text/plain": [
       "71"
      ]
     },
     "execution_count": 17,
     "metadata": {},
     "output_type": "execute_result"
    }
   ],
   "source": [
    "data.duplicated().sum()"
   ]
  },
  {
   "cell_type": "code",
   "execution_count": 18,
   "id": "ff47aee7",
   "metadata": {
    "deletable": false,
    "id": "8575fe05"
   },
   "outputs": [],
   "source": [
    "data = data.drop_duplicates()"
   ]
  },
  {
   "cell_type": "markdown",
   "id": "0ecfabed",
   "metadata": {
    "deletable": false,
    "editable": false,
    "id": "9904cf55"
   },
   "source": [
    "### Категоризация данных"
   ]
  },
  {
   "cell_type": "markdown",
   "id": "4cab2187",
   "metadata": {
    "deletable": false,
    "editable": false,
    "id": "72fcc8a2"
   },
   "source": [
    "**Задание 16. На основании диапазонов, указанных ниже, создайте в датафрейме `data` столбец `total_income_category` с категориями:**\n",
    "\n",
    "- 0–30000 — `'E'`;\n",
    "- 30001–50000 — `'D'`;\n",
    "- 50001–200000 — `'C'`;\n",
    "- 200001–1000000 — `'B'`;\n",
    "- 1000001 и выше — `'A'`.\n",
    "\n",
    "\n",
    "**Например, кредитополучателю с доходом 25000 нужно назначить категорию `'E'`, а клиенту, получающему 235000, — `'B'`. Используйте собственную функцию с именем `categorize_income()` и метод `apply()`.**"
   ]
  },
  {
   "cell_type": "code",
   "execution_count": 19,
   "id": "888037f1",
   "metadata": {
    "deletable": false,
    "id": "e1771346"
   },
   "outputs": [],
   "source": [
    "def categorize_income(income):\n",
    "    try:\n",
    "        if 0 <= income <= 30000:\n",
    "            return 'E'\n",
    "        elif 30001 <= income <= 50000:\n",
    "            return 'D'\n",
    "        elif 50001 <= income <= 200000:\n",
    "            return 'C'\n",
    "        elif 200001 <= income <= 1000000:\n",
    "            return 'B'\n",
    "        elif income >= 1000001:\n",
    "            return 'A'\n",
    "    except:\n",
    "        pass"
   ]
  },
  {
   "cell_type": "code",
   "execution_count": 20,
   "id": "6acd70ce",
   "metadata": {
    "deletable": false,
    "id": "d5f3586d"
   },
   "outputs": [],
   "source": [
    "data['total_income_category'] = data['total_income'].apply(categorize_income)"
   ]
  },
  {
   "cell_type": "markdown",
   "id": "794cba1a",
   "metadata": {
    "deletable": false,
    "editable": false,
    "id": "dde49b5c"
   },
   "source": [
    "**Задание 17. Выведите на экран перечень уникальных целей взятия кредита из столбца `purpose`.**"
   ]
  },
  {
   "cell_type": "code",
   "execution_count": 21,
   "id": "b37b9683",
   "metadata": {
    "deletable": false,
    "id": "f67ce9b3",
    "outputId": "673c12d9-7d7e-4ae0-9812-c622c89dd244"
   },
   "outputs": [
    {
     "data": {
      "text/plain": [
       "array(['покупка жилья', 'приобретение автомобиля',\n",
       "       'дополнительное образование', 'сыграть свадьбу',\n",
       "       'операции с жильем', 'образование', 'на проведение свадьбы',\n",
       "       'покупка жилья для семьи', 'покупка недвижимости',\n",
       "       'покупка коммерческой недвижимости', 'покупка жилой недвижимости',\n",
       "       'строительство собственной недвижимости', 'недвижимость',\n",
       "       'строительство недвижимости', 'на покупку подержанного автомобиля',\n",
       "       'на покупку своего автомобиля',\n",
       "       'операции с коммерческой недвижимостью',\n",
       "       'строительство жилой недвижимости', 'жилье',\n",
       "       'операции со своей недвижимостью', 'автомобили',\n",
       "       'заняться образованием', 'сделка с подержанным автомобилем',\n",
       "       'получение образования', 'автомобиль', 'свадьба',\n",
       "       'получение дополнительного образования', 'покупка своего жилья',\n",
       "       'операции с недвижимостью', 'получение высшего образования',\n",
       "       'свой автомобиль', 'сделка с автомобилем',\n",
       "       'профильное образование', 'высшее образование',\n",
       "       'покупка жилья для сдачи', 'на покупку автомобиля', 'ремонт жилью',\n",
       "       'заняться высшим образованием'], dtype=object)"
      ]
     },
     "execution_count": 21,
     "metadata": {},
     "output_type": "execute_result"
    }
   ],
   "source": [
    "data['purpose'].unique()"
   ]
  },
  {
   "cell_type": "markdown",
   "id": "ff28246a",
   "metadata": {
    "deletable": false,
    "editable": false,
    "id": "85d0aef0"
   },
   "source": [
    "**Задание 18. Создайте функцию, которая на основании данных из столбца `purpose` сформирует новый столбец `purpose_category`, в который войдут следующие категории:**\n",
    "\n",
    "- `'операции с автомобилем'`,\n",
    "- `'операции с недвижимостью'`,\n",
    "- `'проведение свадьбы'`,\n",
    "- `'получение образования'`.\n",
    "\n",
    "**Например, если в столбце `purpose` находится подстрока `'на покупку автомобиля'`, то в столбце `purpose_category` должна появиться строка `'операции с автомобилем'`.**\n",
    "\n",
    "**Используйте собственную функцию с именем `categorize_purpose()` и метод `apply()`. Изучите данные в столбце `purpose` и определите, какие подстроки помогут вам правильно определить категорию.**"
   ]
  },
  {
   "cell_type": "code",
   "execution_count": 22,
   "id": "38067e56",
   "metadata": {
    "deletable": false,
    "id": "e149fab4"
   },
   "outputs": [],
   "source": [
    "def categorize_purpose(row):\n",
    "    try:\n",
    "        if 'автом' in row:\n",
    "            return 'операции с автомобилем'\n",
    "        elif 'жил' in row or 'недвиж' in row:\n",
    "            return 'операции с недвижимостью'\n",
    "        elif 'свад' in row:\n",
    "            return 'проведение свадьбы'\n",
    "        elif 'образов' in row:\n",
    "            return 'получение образования'\n",
    "    except:\n",
    "        return 'нет категории'"
   ]
  },
  {
   "cell_type": "code",
   "execution_count": 23,
   "id": "26eb2354",
   "metadata": {
    "deletable": false,
    "id": "bf36e69b"
   },
   "outputs": [],
   "source": [
    "data['purpose_category'] = data['purpose'].apply(categorize_purpose)"
   ]
  },
  {
   "cell_type": "markdown",
   "id": "4bff374f",
   "metadata": {
    "deletable": false,
    "editable": false,
    "id": "09b242bf"
   },
   "source": [
    "### Шаг 3. Исследуйте данные и ответьте на вопросы"
   ]
  },
  {
   "cell_type": "markdown",
   "id": "e9da64fe",
   "metadata": {
    "deletable": false,
    "editable": false,
    "id": "c5d66278"
   },
   "source": [
    "#### 3.1 Есть ли зависимость между количеством детей и возвратом кредита в срок?"
   ]
  },
  {
   "cell_type": "code",
   "execution_count": null,
   "id": "3eb5167a",
   "metadata": {
    "deletable": false,
    "id": "2cacfc4a"
   },
   "outputs": [],
   "source": [
    "tmp = data.groupby('children')['debt'].agg(['sum','count'])\n",
    "\n",
    "tmp "
   ]
  },
  {
   "cell_type": "code",
   "execution_count": 27,
   "id": "8e25557f",
   "metadata": {},
   "outputs": [
    {
     "data": {
      "text/html": [
       "<div>\n",
       "<style scoped>\n",
       "    .dataframe tbody tr th:only-of-type {\n",
       "        vertical-align: middle;\n",
       "    }\n",
       "\n",
       "    .dataframe tbody tr th {\n",
       "        vertical-align: top;\n",
       "    }\n",
       "\n",
       "    .dataframe thead th {\n",
       "        text-align: right;\n",
       "    }\n",
       "</style>\n",
       "<table border=\"1\" class=\"dataframe\">\n",
       "  <thead>\n",
       "    <tr style=\"text-align: right;\">\n",
       "      <th></th>\n",
       "      <th>sum</th>\n",
       "      <th>count</th>\n",
       "      <th>ratio</th>\n",
       "    </tr>\n",
       "    <tr>\n",
       "      <th>children</th>\n",
       "      <th></th>\n",
       "      <th></th>\n",
       "      <th></th>\n",
       "    </tr>\n",
       "  </thead>\n",
       "  <tbody>\n",
       "    <tr>\n",
       "      <th>0</th>\n",
       "      <td>1063</td>\n",
       "      <td>14091</td>\n",
       "      <td>0.075438</td>\n",
       "    </tr>\n",
       "    <tr>\n",
       "      <th>1</th>\n",
       "      <td>444</td>\n",
       "      <td>4808</td>\n",
       "      <td>0.092346</td>\n",
       "    </tr>\n",
       "    <tr>\n",
       "      <th>2</th>\n",
       "      <td>194</td>\n",
       "      <td>2052</td>\n",
       "      <td>0.094542</td>\n",
       "    </tr>\n",
       "    <tr>\n",
       "      <th>3</th>\n",
       "      <td>27</td>\n",
       "      <td>330</td>\n",
       "      <td>0.081818</td>\n",
       "    </tr>\n",
       "    <tr>\n",
       "      <th>4</th>\n",
       "      <td>4</td>\n",
       "      <td>41</td>\n",
       "      <td>0.097561</td>\n",
       "    </tr>\n",
       "    <tr>\n",
       "      <th>5</th>\n",
       "      <td>0</td>\n",
       "      <td>9</td>\n",
       "      <td>0.000000</td>\n",
       "    </tr>\n",
       "  </tbody>\n",
       "</table>\n",
       "</div>"
      ],
      "text/plain": [
       "           sum  count     ratio\n",
       "children                       \n",
       "0         1063  14091  0.075438\n",
       "1          444   4808  0.092346\n",
       "2          194   2052  0.094542\n",
       "3           27    330  0.081818\n",
       "4            4     41  0.097561\n",
       "5            0      9  0.000000"
      ]
     },
     "execution_count": 27,
     "metadata": {},
     "output_type": "execute_result"
    }
   ],
   "source": [
    "tmp['ratio'] = tmp['sum'] / tmp['count']\n",
    "\n",
    "tmp"
   ]
  },
  {
   "cell_type": "markdown",
   "id": "fa641fcd",
   "metadata": {
    "deletable": false,
    "id": "3a6b99ec"
   },
   "source": [
    "**Вывод:** В ходе проверки гипотезы о зависимости количества детей и появлением задолженности можно ошибочно сделать вывод,что люди имеющие четверых детей чаще всего становятся должниками и их почти 10% от общего количества, но такой вывод будет преждевременным, так как выборка на которой производится исследование слишком маленькая и требуется больше данных для окнчательного корректного вывода. На что стоит обратить внимания в данный момент исходя из предоставленных данных и проведенного анализа: люди не имеющие детей,которых в общей сложности 14091 человек имеют просрочки в 7.54% случаев, люди имеющие одного ребенка,которых 4808 человек,имеют просрочки в 9.23% случаев, люди имеющие двух детей,которых в данной выборке 2052 человека,имеют просрочки в 9.45% случаев, то есть взяв эти три группы людей,можно сделать вывод,что в их случаи с появлением большего количества детей процент просрочки растет. Группа,которая включает в себя людей имеющих 3 детей, имеет один из наиболее маленьких процентов по количеству должников: 8.18%, возможно это связано с тем,что люди с тремя детьми начинают более тщательно планировать свои финансы и являются более финансово грамотными или же данных также недостаточно,как и в случаи с группами с 4 и 5 детьми. Вывод о реальных процентах должников в группах людей с четырьмя и пятью детьми на данный момент,как я уже сказал выше, невозможно сделать, так как требуется больше данных. Сделать окончательный вывод о зависимости количества детей и возвратом кредита в срок на данный момент будет неверно,нужно больше данных."
   ]
  },
  {
   "cell_type": "markdown",
   "id": "2359db46",
   "metadata": {
    "deletable": false,
    "editable": false,
    "id": "97be82ca"
   },
   "source": [
    "#### 3.2 Есть ли зависимость между семейным положением и возвратом кредита в срок?"
   ]
  },
  {
   "cell_type": "code",
   "execution_count": 36,
   "id": "f0fdb9b2",
   "metadata": {
    "deletable": false,
    "id": "dc3f7ee8"
   },
   "outputs": [
    {
     "name": "stdout",
     "output_type": "stream",
     "text": [
      "                  sum  count\n",
      "family_status_id            \n",
      "0                 927  12261\n",
      "1                 385   4134\n",
      "2                  63    951\n",
      "3                  84   1189\n",
      "4                 273   2796\n",
      "7.56% - доля должников в браке\n",
      "9.31% - доля должников в гражданском браке\n",
      "6.62% - доля должников,которые являются вдовами \\ вдовцами\n",
      "7.06% - доля должников в разводе\n",
      "9.76% - доля должников, не женатых\\ не замужем\n"
     ]
    }
   ],
   "source": [
    "print(data.groupby('family_status_id')['debt'].agg(['sum','count']))\n",
    "\n",
    "print(f'{927/12261:.2%} - доля должников в браке')\n",
    "print(f'{385/4134:.2%} - доля должников в гражданском браке')\n",
    "print(f'{63/951:.2%} - доля должников,которые являются вдовами \\ вдовцами')\n",
    "print(f'{84/1189:.2%} - доля должников в разводе')\n",
    "print(f'{273/2796:.2%} - доля должников, не женатых\\ не замужем')"
   ]
  },
  {
   "cell_type": "markdown",
   "id": "3c4cd04e",
   "metadata": {
    "deletable": false,
    "id": "1cef7837"
   },
   "source": [
    "**Вывод:**  Исходя из цифр,которы мы получили в ходе анализа,можно сделать вывод: существует две группы самых злостных должников - люди которые официально никак не закрепили свои отноешения,а именно люди в гражданском браке ( процент должников от общего количества 9.31%) и люди не женаты / не замужен (процент должников от общего количества 9.76%),то есть люди этих двух групп в большей степени являются должниками. Оставщиеся группы людей имеют такие показатели: люди в браке 7.56% должников от общего количества, люди,которые являются вдовами\\вдовцами 6.62% от общего количества(что кстати, самый низкий показатель среди всех групп,но и группа самая малочисленная), люди в разводе 7.06% от общего количества. То есть люди,которые официально связывали свои отношения реже становятся должниками."
   ]
  },
  {
   "cell_type": "markdown",
   "id": "69b41fd1",
   "metadata": {
    "deletable": false,
    "editable": false,
    "id": "1e8b2fca"
   },
   "source": [
    "#### 3.3 Есть ли зависимость между уровнем дохода и возвратом кредита в срок?"
   ]
  },
  {
   "cell_type": "code",
   "execution_count": 30,
   "id": "d21aa4c5",
   "metadata": {
    "deletable": false,
    "id": "cd7e3720"
   },
   "outputs": [
    {
     "name": "stdout",
     "output_type": "stream",
     "text": [
      "Процент людей имеющих уровень дохода A и имеющих задолженоость по кредиту = 8.00%\n",
      "Процент людей имеющих уровень дохода B и имеющих задолженоость по кредиту = 7.06%\n",
      "Процент людей имеющих уровень дохода C и имеющих задолженоость по кредиту = 8.50%\n",
      "Процент людей имеющих уровень дохода D и имеющих задолженоость по кредиту = 6.02%\n",
      "Процент людей имеющих уровень дохода E и имеющих задолженоость по кредиту = 9.09%\n"
     ]
    }
   ],
   "source": [
    "total_income_debt_A = data[(data['total_income_category'] == 'A') & (data['debt'] == 1)]['debt'].count() # подсчет количества людей согласно каждой категории,имеющих задолженности по кредитам\n",
    "total_income_debt_B = data[(data['total_income_category'] == 'B') & (data['debt'] == 1)]['debt'].count()\n",
    "total_income_debt_C = data[(data['total_income_category'] == 'C') & (data['debt'] == 1)]['debt'].count()\n",
    "total_income_debt_D = data[(data['total_income_category'] == 'D') & (data['debt'] == 1)]['debt'].count()\n",
    "total_income_debt_E = data[(data['total_income_category'] == 'E') & (data['debt'] == 1)]['debt'].count()\n",
    "\n",
    "total_category_A = data[data['total_income_category'] == 'A'].value_counts().count() # подсчет общего количества людей в каждой категории\n",
    "total_category_B = data[data['total_income_category'] == 'B'].value_counts().count()\n",
    "total_category_C = data[data['total_income_category'] == 'C'].value_counts().count()\n",
    "total_category_D = data[data['total_income_category'] == 'D'].value_counts().count()\n",
    "total_category_E = data[data['total_income_category'] == 'E'].value_counts().count()\n",
    "\n",
    "print(f'Процент людей имеющих уровень дохода A и имеющих задолженоость по кредиту = {total_income_debt_A/total_category_A:.2%}') # Соотнощению в процентах общего количества людей по категориям к общему количеству людей в этих категориях, имеющих задолженности по кредитам\n",
    "print(f'Процент людей имеющих уровень дохода B и имеющих задолженоость по кредиту = {total_income_debt_B/total_category_B:.2%}')\n",
    "print(f'Процент людей имеющих уровень дохода C и имеющих задолженоость по кредиту = {total_income_debt_C/total_category_C:.2%}')\n",
    "print(f'Процент людей имеющих уровень дохода D и имеющих задолженоость по кредиту = {total_income_debt_D/total_category_D:.2%}')\n",
    "print(f'Процент людей имеющих уровень дохода E и имеющих задолженоость по кредиту = {total_income_debt_E/total_category_E:.2%}')\n"
   ]
  },
  {
   "cell_type": "markdown",
   "id": "440cd75f",
   "metadata": {
    "deletable": false,
    "id": "e8593def"
   },
   "source": [
    "**Вывод:** Люди чьи доходы относятся к категории E(30000-50000), чаще чем остальные являются нарушителями сроков выплаты кредитов, когда в свою очередь люди, чиь доходы относятся к категории D(50000-200000) реже всего имеют просрочки по кредитам, то есть можно утверждать,что категория доходов влияет на вероятность выплаты кредита в назначенный срок."
   ]
  },
  {
   "cell_type": "markdown",
   "id": "2fa96a1b",
   "metadata": {
    "deletable": false,
    "editable": false,
    "id": "99ecbd1f"
   },
   "source": [
    "#### 3.4 Как разные цели кредита влияют на его возврат в срок?"
   ]
  },
  {
   "cell_type": "code",
   "execution_count": 31,
   "id": "f87423bb",
   "metadata": {
    "deletable": false,
    "id": "2b687290"
   },
   "outputs": [
    {
     "name": "stdout",
     "output_type": "stream",
     "text": [
      "Процент людей, которые берут кредиты на недвижимость и не возвращают в срок = 7.26%\n",
      "Процент людей, которые берут кредиты на автомобиль и не возвращают в срок = 9.35%\n",
      "Процент людей, которые берут кредиты на образование и не возвращают в срок = 9.25%\n",
      "Процент людей, которые берут кредиты на свадьбу и не возвращают в срок = 7.91%\n"
     ]
    }
   ],
   "source": [
    "purpose_build_debt_count = data[(data['purpose_category'] == 'операции с недвижимостью') &  \n",
    "                                    (data['debt'] == 1)]['debt'].count() # подсчет людей по категориям цели кредита,которые не выплатили его вовремя\n",
    "\n",
    "purpose_avto_debt_count = data[(data['purpose_category'] == 'операции с автомобилем') & \n",
    "                                    (data['debt'] == 1)]['debt'].count()\n",
    "\n",
    "purpose_education_debt_count = data[(data['purpose_category'] == 'получение образования') & \n",
    "                                    (data['debt'] == 1)]['debt'].count()\n",
    "\n",
    "purpose_wedding_debt_count = data[(data['purpose_category'] == 'проведение свадьбы') & \n",
    "                                    (data['debt'] == 1)]['debt'].count()\n",
    "\n",
    "\n",
    "purpose_build_total_count = data[data['purpose_category'] == 'операции с недвижимостью'].value_counts().count() # подсчет людей по категориям цели кредита\n",
    "\n",
    "purpose_avto_total_count = data[data['purpose_category'] == 'операции с автомобилем'].value_counts().count() \n",
    "\n",
    "purpose_education_total_count = data[data['purpose_category'] == 'получение образования'].value_counts().count()\n",
    "\n",
    "purpose_wedding_total_count = data[data['purpose_category'] == 'проведение свадьбы'].value_counts().count() \n",
    "\n",
    "\n",
    "print(f'Процент людей, которые берут кредиты на недвижимость и не возвращают в срок = {purpose_build_debt_count/purpose_build_total_count:.2%}')\n",
    "print(f'Процент людей, которые берут кредиты на автомобиль и не возвращают в срок = {purpose_avto_debt_count/purpose_avto_total_count:.2%}')\n",
    "print(f'Процент людей, которые берут кредиты на образование и не возвращают в срок = {purpose_education_debt_count/purpose_education_total_count:.2%}')\n",
    "print(f'Процент людей, которые берут кредиты на свадьбу и не возвращают в срок = {purpose_wedding_debt_count/purpose_wedding_total_count:.2%}')\n"
   ]
  },
  {
   "cell_type": "markdown",
   "id": "9ac6b407",
   "metadata": {
    "deletable": false,
    "id": "b4bb2ce6"
   },
   "source": [
    "**Вывод:** Просчитав зависимость по каждой из групп людей поделенных по цели кредита,можно сделать вывод,что наиболее часто не выплачивают кредит в срок люди, чья цель была покупка автомобиля, доля должников из общего количества людей в этой группе составялет 9.35%, а это в данной выборке 400 человек из 4279,почти каждый 10 человек, что на 2% больше,чем в группе, где целью кредита является покупка недвижемости 7.26%,далее по нарастающей идет группа людей,где целью кредита является организация свадьбы 7.91% и ближе всего в автолюбителям идет группа людей,которая берет займ для получения образования - 9.25%. Хоть по итогу анализа, люди берущие кредиты на авто и на образования чаще не возвращают их в срок,разница в два процента от большего и меньшего значения на данном этапе исселодования не гарантированно нам указвает на платежеспособность каждой группы."
   ]
  },
  {
   "cell_type": "markdown",
   "id": "1c1333ea",
   "metadata": {
    "deletable": false,
    "editable": false,
    "id": "09c3ac4c"
   },
   "source": [
    "#### 3.5 Приведите возможные причины появления пропусков в исходных данных."
   ]
  },
  {
   "cell_type": "markdown",
   "id": "8e4ddc5f",
   "metadata": {
    "deletable": false,
    "id": "9da2ceda"
   },
   "source": [
    "- 1. Технологические ошибки возникают при копировании, считывании, смене формата.\n",
    "- 2. Человеческий фатор - при самостоятельном вводе данных любой человек рано или поздно ошибается\n",
    "- 3. При заполнении анект в социальных опросах, некоторые столбцы, например, могут специально не заполнять из-за ненадобности, при этом все остальные будут заполнены.\n",
    "- 4. Некорректная преддоработка данных при анализе\n",
    "         "
   ]
  },
  {
   "cell_type": "code",
   "execution_count": 32,
   "id": "8f3de1a8",
   "metadata": {},
   "outputs": [
    {
     "data": {
      "text/plain": [
       "array(['сотрудник', 'пенсионер', 'компаньон', 'госслужащий',\n",
       "       'безработный', 'предприниматель', 'студент', 'в декрете'],\n",
       "      dtype=object)"
      ]
     },
     "execution_count": 32,
     "metadata": {},
     "output_type": "execute_result"
    }
   ],
   "source": [
    "data['income_type'].unique()"
   ]
  },
  {
   "cell_type": "code",
   "execution_count": 33,
   "id": "3c5514a9",
   "metadata": {},
   "outputs": [],
   "source": [
    "data['days_employed'] = data['days_employed'].fillna('unkdown')"
   ]
  },
  {
   "cell_type": "code",
   "execution_count": 34,
   "id": "1b8d3c3b",
   "metadata": {},
   "outputs": [],
   "source": [
    "data['total_income'] = data['total_income'].fillna('unkdown')"
   ]
  },
  {
   "cell_type": "code",
   "execution_count": 35,
   "id": "dc36acb8",
   "metadata": {},
   "outputs": [
    {
     "data": {
      "text/html": [
       "<div>\n",
       "<style scoped>\n",
       "    .dataframe tbody tr th:only-of-type {\n",
       "        vertical-align: middle;\n",
       "    }\n",
       "\n",
       "    .dataframe tbody tr th {\n",
       "        vertical-align: top;\n",
       "    }\n",
       "\n",
       "    .dataframe thead th {\n",
       "        text-align: right;\n",
       "    }\n",
       "</style>\n",
       "<table border=\"1\" class=\"dataframe\">\n",
       "  <thead>\n",
       "    <tr style=\"text-align: right;\">\n",
       "      <th></th>\n",
       "      <th>children</th>\n",
       "      <th>days_employed</th>\n",
       "      <th>dob_years</th>\n",
       "      <th>education</th>\n",
       "      <th>education_id</th>\n",
       "      <th>family_status</th>\n",
       "      <th>family_status_id</th>\n",
       "      <th>gender</th>\n",
       "      <th>income_type</th>\n",
       "      <th>debt</th>\n",
       "      <th>total_income</th>\n",
       "      <th>purpose</th>\n",
       "      <th>total_income_category</th>\n",
       "      <th>purpose_category</th>\n",
       "    </tr>\n",
       "  </thead>\n",
       "  <tbody>\n",
       "  </tbody>\n",
       "</table>\n",
       "</div>"
      ],
      "text/plain": [
       "Empty DataFrame\n",
       "Columns: [children, days_employed, dob_years, education, education_id, family_status, family_status_id, gender, income_type, debt, total_income, purpose, total_income_category, purpose_category]\n",
       "Index: []"
      ]
     },
     "execution_count": 35,
     "metadata": {},
     "output_type": "execute_result"
    }
   ],
   "source": [
    "data[(data['days_employed'] == 'unkdown')  & (data['total_income'] == 'unkdown') & (data['education_id'] == 1)]"
   ]
  },
  {
   "cell_type": "markdown",
   "id": "784b6234",
   "metadata": {},
   "source": [
    "**Вывод:** Cогласно высказанным мной гипотезам о гарантированно существующей зависимости между,например, уровнем дохода и сроком возврата кредита в срок 100% зависимости не существует и пропуски,которые есть в исходных данных,связаны с тем,что заполнение данных по определенным столбцам было необязательно при оформлении заявки,так как эти данные либо не берутся в расчет, либо берутся из других более достоверных источников. То есть, я полагаю,что пропуски в предоставленных нам исходных данных обусловленны тем, что при не заполнении столбцов 'total_income' и 'days_employed' заявка все равно принимается к рассмотрению. Что еще мне показалось любопытным,так это то,что большенсто людей,которые не заполнили эти столбцы, а это 1500 из 2000 почти 75%, указали уровень образования 'Средний', не уверен,что здесь есть какая-то гарантированная взаимосвязь.  Нужно больше данных"
   ]
  },
  {
   "cell_type": "markdown",
   "id": "77ad46cd",
   "metadata": {
    "deletable": false,
    "editable": false,
    "id": "7b0487d6"
   },
   "source": [
    "#### 3.6 Объясните, почему заполнить пропуски медианным значением — лучшее решение для количественных переменных."
   ]
  },
  {
   "cell_type": "markdown",
   "id": "f4aee4f2",
   "metadata": {
    "deletable": false,
    "id": "7ecf2b8e"
   },
   "source": [
    "*Ответ:* Медианные значения при заполнении пропусков в преддоработке данных , в сравнении, например, с средними арифметическими использовать корректнее из-за того,что медаинные значения не так подверженны воздействию аномальных выбросов, то есть при замене пропусков на медианные, никакие аномалии не послужат в дальнейшем не верным выводам. Арифметические значения в свою очередь сильно подвержены изменениям из-за аномальных выборосов и заполнение ими пропуском в дальнейшем повредят к не корректным выводам. "
   ]
  },
  {
   "cell_type": "markdown",
   "id": "cf95dd4c",
   "metadata": {
    "deletable": false,
    "editable": false,
    "id": "6db5255a"
   },
   "source": [
    "### Шаг 4: общий вывод."
   ]
  },
  {
   "cell_type": "markdown",
   "id": "a5f4a5c7",
   "metadata": {
    "deletable": false,
    "id": "bad65432"
   },
   "source": [
    "\n",
    "По предоставленным исходным данным, был проведен анализ с целью разобраться, влияет ли семейное положение и количество детей клиента на факт погашения кредита в срок. Входные данные от банка — статистика о платёжеспособности клиентов. В дальнейшем результаты исследования будут учтены при построении модели кредитного скоринга — специальной системы, которая оценивает способность потенциального заёмщика вернуть кредит банку.\n",
    "\n",
    "Было выдвинуто 4 гипотезы:\n",
    "\n",
    "- Гипотеза первая : влияет ли количество детей на возврат кредита в срок\n",
    "- Гипотеза вторая : влияет ли семейное положение на возврат кредита в срок\n",
    "- Гипотеза третья : влияет ли уровень дохода на возврат кредита в срок\n",
    "- Гипотеза четвертая : влияют ли цели кредита на возврат кредита в срок\n",
    "\n",
    "В ходе исследования удалось выявить следущее:\n",
    "\n",
    "<b>Гипотеза первая частично подтверждена:</b>\n",
    "\n",
    "\n",
    "Окончательно подтвердить первую гипотезу или опровергуть я смогу если получу больше данных по группам людей с 3, 4 и 5 детьми, на данном этапе исследования результаты такие:\n",
    "- 7.54% - доля просроченных кредитов у заёмщиков без детей\n",
    "- 9.23% - доля просроченных кредитов у заёмщиков с одним ребенком\n",
    "- 9.45% - доля просроченных кредитов у заёмщиков с двумя детьми \n",
    "\n",
    "То есть прослеживается тенденция по увеличению процента должников с увеличением количества детей, вместе с тем,присутсвующая разница в 2% не даёт полной уверенности в подверждении гипотезы из-за отсутствия полноты данных по следующим группам.\n",
    "Рекомендации: полагаться на этот показатель только в случаи совокупного принятия решения. Предоставить больше данных для анализа. \n",
    "\n",
    "<b>Гипотеза вторая подтверждена:</b>\n",
    "\n",
    "\n",
    "- Люди никогда не состаявщие в законном браке,а именно не женатые / не замужем и проживающие в гражданском браке чаще становятся должниками по своим кредитным обязательствам. Их соответственно 9.76% от общего количества и 9.31% от общего количества, то есть практически каждый 10 человек.\n",
    "- Люди,чьи отнощения находятся в официальном браке , являются вдовами / вдовцами или находятся в разводе, являются более надежными заёмщиками, не платят кредиты в 7.56%, 6.62% и 7.06% случаях соответственно. \n",
    "\n",
    "Рекомендации: Разница от меньшего значения до большего составляет 3%, этот показатель стоит взять во внимание,но принимать решение исключительно по данному критерию было бы некорректно. \n",
    "\n",
    "<b>Гипотеза третья подтверждена частично:</b>\n",
    "\n",
    "\n",
    "- Люди, чьи доходы относятся к категории E(30000-50000), чаще чем остальные являются нарушителями сроков выплаты кредитов, в 9.09% случаев.\n",
    "- Люди, чьи доходы относятся к категории D(50000-200000) реже всего имеют просрочки по кредитам, в 6.02% случаев.\n",
    "\n",
    "Рекомендации: Тот факт,что люди с наименьшим количеством доходов ,категория E(30т.-50т.), имеют чаще всего проблемы с выплатами кредита в срок ожидаемо, люди с доходом категории D(50 т. - 200 т.) скорее всего становятся более финансово грамотными и распределяют финансы заранее. Что на самом деле интересно,так это то,что люди имеющие более высокие доходы по сравнению с группой D, скорее всего начинают меньше следить за своими финансами,а тем более за выплатами кредитов в срок,но категории с большими дохода C,B и A малочиселнны, в связи с этим сложно окончательно ответить подтверждена ли окончательно гипотеза о зависимости доходов и выплаты кредита в срок. Мои рекомендации: также не полагаться исключительно на этот фактор при кредитном скоринге, так как вопрос не окончательно изучен.\n",
    "\n",
    "<b>Гипотеза четвертая подтверждена:</b>\n",
    "\n",
    "- Процент людей, которые берут кредиты на недвижимость и не возвращают в срок = 7.26%\n",
    "- Процент людей, которые берут кредиты на автомобиль и не возвращают в срок = 9.35%\n",
    "- Процент людей, которые берут кредиты на образование и не возвращают в срок = 9.25%\n",
    "- Процент людей, которые берут кредиты на свадьбу и не возвращают в срок = 7.91%\n",
    "\n",
    "Рекомендации: Существует зависимость между целью кредита и появлением задолженности, но стоит учитывать также,что разница между наименьшим значением и наибольшем составляет 2%, в связи с этим,также не стал бы рекомендовать полагаться исключительно на этот пунтк при принятии решения.\n",
    "\n",
    "\n",
    "<b>Общие рекомендации и итоги:</b>\n",
    "\n",
    "- Проведнные нами иследования, выявиили,что по некоторым гипотезам действительно существует конкретная зависимость,что позволяет нам подтвердить гипотезу вторую и гипотезу четвертую.\n",
    "- Гипотеза первая и третья могут быть подтверджены только частично из-за неполноты информации в исходных данных."
   ]
  }
 ],
 "metadata": {
  "ExecuteTimeLog": [
   {
    "duration": 1020,
    "start_time": "2022-12-28T07:22:10.157Z"
   },
   {
    "duration": 22,
    "start_time": "2022-12-28T07:27:07.537Z"
   },
   {
    "duration": 16,
    "start_time": "2022-12-28T07:27:38.169Z"
   },
   {
    "duration": 6,
    "start_time": "2022-12-28T07:30:31.865Z"
   },
   {
    "duration": 15,
    "start_time": "2022-12-28T07:30:42.718Z"
   },
   {
    "duration": 10,
    "start_time": "2022-12-28T07:31:10.898Z"
   },
   {
    "duration": 15,
    "start_time": "2022-12-28T13:57:07.967Z"
   },
   {
    "duration": 6,
    "start_time": "2022-12-28T13:58:15.804Z"
   },
   {
    "duration": 6,
    "start_time": "2022-12-28T13:58:29.323Z"
   },
   {
    "duration": 822,
    "start_time": "2022-12-28T13:59:56.739Z"
   },
   {
    "duration": 24,
    "start_time": "2022-12-28T14:00:03.828Z"
   },
   {
    "duration": 5,
    "start_time": "2022-12-28T14:00:12.810Z"
   },
   {
    "duration": 7,
    "start_time": "2022-12-28T14:00:31.954Z"
   },
   {
    "duration": 5,
    "start_time": "2022-12-28T14:00:34.338Z"
   },
   {
    "duration": 6,
    "start_time": "2022-12-28T14:00:40.706Z"
   },
   {
    "duration": 7,
    "start_time": "2022-12-28T14:00:41.955Z"
   },
   {
    "duration": 11,
    "start_time": "2022-12-28T14:11:58.209Z"
   },
   {
    "duration": 8,
    "start_time": "2022-12-28T14:13:10.621Z"
   },
   {
    "duration": 9,
    "start_time": "2022-12-28T14:13:33.795Z"
   },
   {
    "duration": 7,
    "start_time": "2022-12-28T14:13:45.436Z"
   },
   {
    "duration": 7,
    "start_time": "2022-12-28T14:13:48.628Z"
   },
   {
    "duration": 24,
    "start_time": "2022-12-28T14:13:55.980Z"
   },
   {
    "duration": 457,
    "start_time": "2022-12-28T14:15:53.971Z"
   },
   {
    "duration": 8,
    "start_time": "2022-12-28T14:16:08.027Z"
   },
   {
    "duration": 9,
    "start_time": "2022-12-28T14:16:16.683Z"
   },
   {
    "duration": 11,
    "start_time": "2022-12-28T14:16:24.883Z"
   },
   {
    "duration": 7,
    "start_time": "2022-12-28T14:16:41.875Z"
   },
   {
    "duration": 7,
    "start_time": "2022-12-28T14:33:09.780Z"
   },
   {
    "duration": 13,
    "start_time": "2022-12-28T14:33:51.709Z"
   },
   {
    "duration": 496,
    "start_time": "2022-12-28T14:34:03.520Z"
   },
   {
    "duration": 8,
    "start_time": "2022-12-28T14:34:11.415Z"
   },
   {
    "duration": 17,
    "start_time": "2022-12-28T14:34:13.867Z"
   },
   {
    "duration": 17,
    "start_time": "2022-12-28T16:09:20.120Z"
   },
   {
    "duration": 10,
    "start_time": "2022-12-28T16:10:14.903Z"
   },
   {
    "duration": 16,
    "start_time": "2022-12-28T16:10:21.608Z"
   },
   {
    "duration": 5,
    "start_time": "2022-12-28T16:10:39.688Z"
   },
   {
    "duration": 6,
    "start_time": "2022-12-28T16:10:48.902Z"
   },
   {
    "duration": 4,
    "start_time": "2022-12-28T16:13:18.638Z"
   },
   {
    "duration": 71,
    "start_time": "2022-12-28T16:14:17.877Z"
   },
   {
    "duration": 74,
    "start_time": "2022-12-28T16:14:28.364Z"
   },
   {
    "duration": 62,
    "start_time": "2022-12-28T16:14:36.973Z"
   },
   {
    "duration": 7,
    "start_time": "2022-12-28T16:15:11.109Z"
   },
   {
    "duration": 4,
    "start_time": "2022-12-28T16:15:21.852Z"
   },
   {
    "duration": 9,
    "start_time": "2022-12-28T16:15:25.207Z"
   },
   {
    "duration": 43,
    "start_time": "2022-12-30T08:44:06.011Z"
   },
   {
    "duration": 517,
    "start_time": "2022-12-30T08:44:19.367Z"
   },
   {
    "duration": 10,
    "start_time": "2022-12-30T08:44:27.776Z"
   },
   {
    "duration": 5,
    "start_time": "2022-12-30T08:44:30.227Z"
   },
   {
    "duration": 4,
    "start_time": "2022-12-30T08:44:33.226Z"
   },
   {
    "duration": 58,
    "start_time": "2022-12-30T08:54:29.486Z"
   },
   {
    "duration": 4,
    "start_time": "2022-12-30T08:55:53.760Z"
   },
   {
    "duration": 7,
    "start_time": "2022-12-30T08:56:16.015Z"
   },
   {
    "duration": 24,
    "start_time": "2022-12-30T08:56:25.544Z"
   },
   {
    "duration": 14,
    "start_time": "2022-12-30T08:56:38.481Z"
   },
   {
    "duration": 637,
    "start_time": "2022-12-30T08:59:08.431Z"
   },
   {
    "duration": 12,
    "start_time": "2022-12-30T09:00:18.646Z"
   },
   {
    "duration": 97,
    "start_time": "2022-12-30T09:00:26.699Z"
   },
   {
    "duration": 9,
    "start_time": "2022-12-30T09:00:30.568Z"
   },
   {
    "duration": 15,
    "start_time": "2022-12-30T09:00:53.252Z"
   },
   {
    "duration": 15,
    "start_time": "2022-12-30T09:01:03.593Z"
   },
   {
    "duration": 11,
    "start_time": "2022-12-30T09:01:23.384Z"
   },
   {
    "duration": 15,
    "start_time": "2022-12-30T10:11:08.454Z"
   },
   {
    "duration": 9,
    "start_time": "2022-12-30T10:11:43.883Z"
   },
   {
    "duration": 10,
    "start_time": "2022-12-30T10:11:49.347Z"
   },
   {
    "duration": 13,
    "start_time": "2022-12-30T10:12:54.763Z"
   },
   {
    "duration": 8,
    "start_time": "2022-12-30T10:13:04.476Z"
   },
   {
    "duration": 9,
    "start_time": "2022-12-30T10:13:12.525Z"
   },
   {
    "duration": 9,
    "start_time": "2022-12-30T10:18:27.919Z"
   },
   {
    "duration": 12,
    "start_time": "2022-12-30T10:18:57.023Z"
   },
   {
    "duration": 9,
    "start_time": "2022-12-30T10:19:03.864Z"
   },
   {
    "duration": 9,
    "start_time": "2022-12-30T10:19:47.936Z"
   },
   {
    "duration": 9,
    "start_time": "2022-12-30T10:20:38.134Z"
   },
   {
    "duration": 66,
    "start_time": "2022-12-30T10:20:49.364Z"
   },
   {
    "duration": 10,
    "start_time": "2022-12-30T10:21:04.095Z"
   },
   {
    "duration": 9,
    "start_time": "2022-12-30T10:22:36.648Z"
   },
   {
    "duration": 5,
    "start_time": "2022-12-30T10:35:31.714Z"
   },
   {
    "duration": 13,
    "start_time": "2022-12-30T10:35:44.350Z"
   },
   {
    "duration": 8,
    "start_time": "2022-12-30T10:35:58.749Z"
   },
   {
    "duration": 8,
    "start_time": "2022-12-30T10:37:28.318Z"
   },
   {
    "duration": 6,
    "start_time": "2022-12-30T10:37:54.807Z"
   },
   {
    "duration": 7,
    "start_time": "2022-12-30T10:45:29.474Z"
   },
   {
    "duration": 7,
    "start_time": "2022-12-30T10:46:59.674Z"
   },
   {
    "duration": 7,
    "start_time": "2022-12-30T10:47:09.120Z"
   },
   {
    "duration": 16,
    "start_time": "2022-12-30T10:48:15.042Z"
   },
   {
    "duration": 8,
    "start_time": "2022-12-30T10:48:21.594Z"
   },
   {
    "duration": 34,
    "start_time": "2022-12-30T10:48:24.968Z"
   },
   {
    "duration": 3,
    "start_time": "2022-12-30T10:48:27.705Z"
   },
   {
    "duration": 10,
    "start_time": "2022-12-30T10:48:30.721Z"
   },
   {
    "duration": 5,
    "start_time": "2022-12-30T10:48:33.869Z"
   },
   {
    "duration": 6,
    "start_time": "2022-12-30T10:48:37.015Z"
   },
   {
    "duration": 5,
    "start_time": "2022-12-30T10:48:40.098Z"
   },
   {
    "duration": 29,
    "start_time": "2022-12-30T10:48:42.717Z"
   },
   {
    "duration": 4,
    "start_time": "2022-12-30T10:48:48.696Z"
   },
   {
    "duration": 12,
    "start_time": "2022-12-30T10:48:52.031Z"
   },
   {
    "duration": 19,
    "start_time": "2022-12-30T10:48:55.449Z"
   },
   {
    "duration": 18,
    "start_time": "2022-12-30T10:48:58.550Z"
   },
   {
    "duration": 5,
    "start_time": "2022-12-30T10:49:00.824Z"
   },
   {
    "duration": 11,
    "start_time": "2022-12-30T10:49:02.015Z"
   },
   {
    "duration": 9,
    "start_time": "2022-12-30T10:49:03.919Z"
   },
   {
    "duration": 4,
    "start_time": "2022-12-30T10:49:07.562Z"
   },
   {
    "duration": 8,
    "start_time": "2022-12-30T10:49:08.815Z"
   },
   {
    "duration": 10,
    "start_time": "2022-12-30T10:49:12.002Z"
   },
   {
    "duration": 5,
    "start_time": "2022-12-30T10:49:13.590Z"
   },
   {
    "duration": 7,
    "start_time": "2022-12-30T10:49:19.951Z"
   },
   {
    "duration": 6,
    "start_time": "2022-12-30T10:49:24.163Z"
   },
   {
    "duration": 6,
    "start_time": "2022-12-30T10:50:45.947Z"
   },
   {
    "duration": 5,
    "start_time": "2022-12-30T10:54:37.316Z"
   },
   {
    "duration": 5,
    "start_time": "2022-12-30T10:55:27.546Z"
   },
   {
    "duration": 6,
    "start_time": "2022-12-30T10:55:30.995Z"
   },
   {
    "duration": 5,
    "start_time": "2022-12-30T10:55:33.622Z"
   },
   {
    "duration": 6,
    "start_time": "2022-12-30T10:58:57.811Z"
   },
   {
    "duration": 7,
    "start_time": "2022-12-30T11:02:10.818Z"
   },
   {
    "duration": 6,
    "start_time": "2022-12-30T11:03:30.013Z"
   },
   {
    "duration": 8,
    "start_time": "2022-12-30T11:03:50.612Z"
   },
   {
    "duration": 5,
    "start_time": "2022-12-30T11:04:21.518Z"
   },
   {
    "duration": 7,
    "start_time": "2022-12-30T11:06:44.858Z"
   },
   {
    "duration": 7,
    "start_time": "2022-12-30T11:07:19.187Z"
   },
   {
    "duration": 7,
    "start_time": "2022-12-30T11:09:28.144Z"
   },
   {
    "duration": 6,
    "start_time": "2022-12-30T11:09:42.836Z"
   },
   {
    "duration": 6,
    "start_time": "2022-12-30T11:09:53.812Z"
   },
   {
    "duration": 6,
    "start_time": "2022-12-30T11:12:08.642Z"
   },
   {
    "duration": 5,
    "start_time": "2022-12-30T11:12:25.436Z"
   },
   {
    "duration": 5,
    "start_time": "2022-12-30T11:18:46.489Z"
   },
   {
    "duration": 5,
    "start_time": "2022-12-30T11:20:33.034Z"
   },
   {
    "duration": 4,
    "start_time": "2022-12-30T11:20:54.023Z"
   },
   {
    "duration": 10,
    "start_time": "2022-12-30T11:21:01.395Z"
   },
   {
    "duration": 9,
    "start_time": "2022-12-30T11:21:20.232Z"
   },
   {
    "duration": 8,
    "start_time": "2022-12-30T11:21:32.197Z"
   },
   {
    "duration": 5,
    "start_time": "2022-12-30T11:21:36.732Z"
   },
   {
    "duration": 14,
    "start_time": "2022-12-30T11:38:17.899Z"
   },
   {
    "duration": 5,
    "start_time": "2022-12-30T11:38:48.385Z"
   },
   {
    "duration": 6,
    "start_time": "2022-12-30T11:40:27.596Z"
   },
   {
    "duration": 13,
    "start_time": "2022-12-30T11:40:44.426Z"
   },
   {
    "duration": 12,
    "start_time": "2022-12-30T11:41:59.038Z"
   },
   {
    "duration": 12,
    "start_time": "2022-12-30T11:42:17.384Z"
   },
   {
    "duration": 10,
    "start_time": "2022-12-30T11:42:37.135Z"
   },
   {
    "duration": 7,
    "start_time": "2022-12-30T11:42:55.270Z"
   },
   {
    "duration": 10,
    "start_time": "2022-12-30T11:45:51.062Z"
   },
   {
    "duration": 4,
    "start_time": "2022-12-30T11:49:49.331Z"
   },
   {
    "duration": 3,
    "start_time": "2022-12-30T11:50:37.442Z"
   },
   {
    "duration": 8,
    "start_time": "2022-12-30T11:55:36.682Z"
   },
   {
    "duration": 11,
    "start_time": "2022-12-30T11:55:54.721Z"
   },
   {
    "duration": 10,
    "start_time": "2022-12-30T11:58:42.381Z"
   },
   {
    "duration": 7,
    "start_time": "2022-12-30T11:59:19.681Z"
   },
   {
    "duration": 11,
    "start_time": "2022-12-30T11:59:57.713Z"
   },
   {
    "duration": 83,
    "start_time": "2022-12-30T12:01:24.049Z"
   },
   {
    "duration": 76,
    "start_time": "2022-12-30T12:01:46.645Z"
   },
   {
    "duration": 73,
    "start_time": "2022-12-30T12:03:24.485Z"
   },
   {
    "duration": 11,
    "start_time": "2022-12-30T12:04:59.875Z"
   },
   {
    "duration": 10,
    "start_time": "2022-12-30T12:05:39.361Z"
   },
   {
    "duration": 15,
    "start_time": "2022-12-30T12:05:49.411Z"
   },
   {
    "duration": 73,
    "start_time": "2022-12-30T12:07:05.572Z"
   },
   {
    "duration": 11,
    "start_time": "2022-12-30T12:07:21.536Z"
   },
   {
    "duration": 11,
    "start_time": "2022-12-30T12:07:27.893Z"
   },
   {
    "duration": 70,
    "start_time": "2022-12-30T12:08:17.714Z"
   },
   {
    "duration": 71,
    "start_time": "2022-12-30T12:08:37.257Z"
   },
   {
    "duration": 88,
    "start_time": "2022-12-30T12:09:08.196Z"
   },
   {
    "duration": 75,
    "start_time": "2022-12-30T12:09:15.632Z"
   },
   {
    "duration": 10,
    "start_time": "2022-12-30T12:09:32.315Z"
   },
   {
    "duration": 5,
    "start_time": "2022-12-30T12:10:10.842Z"
   },
   {
    "duration": 14,
    "start_time": "2022-12-30T12:11:58.252Z"
   },
   {
    "duration": 71,
    "start_time": "2022-12-30T12:14:22.472Z"
   },
   {
    "duration": 13,
    "start_time": "2022-12-30T12:14:32.617Z"
   },
   {
    "duration": 9,
    "start_time": "2022-12-30T12:15:07.465Z"
   },
   {
    "duration": 15,
    "start_time": "2022-12-30T12:15:16.177Z"
   },
   {
    "duration": 12134,
    "start_time": "2022-12-30T12:19:47.437Z"
   },
   {
    "duration": 12316,
    "start_time": "2022-12-30T12:21:11.334Z"
   },
   {
    "duration": 16703,
    "start_time": "2022-12-30T12:22:12.996Z"
   },
   {
    "duration": 19619,
    "start_time": "2022-12-30T12:31:06.980Z"
   },
   {
    "duration": 19146,
    "start_time": "2022-12-30T12:46:31.122Z"
   },
   {
    "duration": 70,
    "start_time": "2022-12-30T18:36:37.974Z"
   },
   {
    "duration": 790,
    "start_time": "2022-12-30T18:36:49.325Z"
   },
   {
    "duration": 28,
    "start_time": "2022-12-30T18:36:58.155Z"
   },
   {
    "duration": 18,
    "start_time": "2022-12-30T18:37:01.061Z"
   },
   {
    "duration": 16,
    "start_time": "2022-12-30T18:37:04.405Z"
   },
   {
    "duration": 59,
    "start_time": "2022-12-30T18:37:07.108Z"
   },
   {
    "duration": 5,
    "start_time": "2022-12-30T18:37:09.462Z"
   },
   {
    "duration": 12,
    "start_time": "2022-12-30T18:37:10.830Z"
   },
   {
    "duration": 6,
    "start_time": "2022-12-30T18:37:13.490Z"
   },
   {
    "duration": 6,
    "start_time": "2022-12-30T18:37:15.459Z"
   },
   {
    "duration": 5,
    "start_time": "2022-12-30T18:37:17.073Z"
   },
   {
    "duration": 57,
    "start_time": "2022-12-30T18:37:20.002Z"
   },
   {
    "duration": 12,
    "start_time": "2022-12-30T18:37:21.991Z"
   },
   {
    "duration": 5,
    "start_time": "2022-12-30T18:37:24.204Z"
   },
   {
    "duration": 19,
    "start_time": "2022-12-30T18:37:26.612Z"
   },
   {
    "duration": 22,
    "start_time": "2022-12-30T18:37:29.712Z"
   },
   {
    "duration": 4,
    "start_time": "2022-12-30T18:37:32.129Z"
   },
   {
    "duration": 15,
    "start_time": "2022-12-30T18:37:33.889Z"
   },
   {
    "duration": 8,
    "start_time": "2022-12-30T18:37:35.589Z"
   },
   {
    "duration": 5,
    "start_time": "2022-12-30T18:37:37.860Z"
   },
   {
    "duration": 9,
    "start_time": "2022-12-30T18:37:39.385Z"
   },
   {
    "duration": 12,
    "start_time": "2022-12-30T18:37:42.145Z"
   },
   {
    "duration": 15193,
    "start_time": "2022-12-30T18:42:03.128Z"
   },
   {
    "duration": 15097,
    "start_time": "2022-12-30T18:43:05.211Z"
   },
   {
    "duration": 345,
    "start_time": "2022-12-30T18:49:56.344Z"
   },
   {
    "duration": 22007,
    "start_time": "2022-12-30T18:50:05.778Z"
   },
   {
    "duration": 21689,
    "start_time": "2022-12-30T18:50:47.143Z"
   },
   {
    "duration": 21457,
    "start_time": "2022-12-30T18:51:31.714Z"
   },
   {
    "duration": 20819,
    "start_time": "2022-12-30T19:43:52.275Z"
   },
   {
    "duration": 659,
    "start_time": "2022-12-31T09:53:31.752Z"
   },
   {
    "duration": 22,
    "start_time": "2022-12-31T09:53:35.512Z"
   },
   {
    "duration": 15,
    "start_time": "2022-12-31T09:53:38.447Z"
   },
   {
    "duration": 12,
    "start_time": "2022-12-31T09:53:40.816Z"
   },
   {
    "duration": 41,
    "start_time": "2022-12-31T09:53:42.111Z"
   },
   {
    "duration": 3,
    "start_time": "2022-12-31T09:53:43.999Z"
   },
   {
    "duration": 9,
    "start_time": "2022-12-31T09:53:46.127Z"
   },
   {
    "duration": 4,
    "start_time": "2022-12-31T09:53:47.503Z"
   },
   {
    "duration": 9,
    "start_time": "2022-12-31T09:53:52.272Z"
   },
   {
    "duration": 5,
    "start_time": "2022-12-31T09:53:53.631Z"
   },
   {
    "duration": 31,
    "start_time": "2022-12-31T09:53:55.719Z"
   },
   {
    "duration": 9,
    "start_time": "2022-12-31T09:53:56.855Z"
   },
   {
    "duration": 4,
    "start_time": "2022-12-31T09:53:58.207Z"
   },
   {
    "duration": 12,
    "start_time": "2022-12-31T09:53:59.199Z"
   },
   {
    "duration": 12,
    "start_time": "2022-12-31T09:54:01.615Z"
   },
   {
    "duration": 21,
    "start_time": "2022-12-31T09:54:02.399Z"
   },
   {
    "duration": 17,
    "start_time": "2022-12-31T09:54:04.207Z"
   },
   {
    "duration": 4,
    "start_time": "2022-12-31T09:54:06.119Z"
   },
   {
    "duration": 14,
    "start_time": "2022-12-31T09:54:08.119Z"
   },
   {
    "duration": 6,
    "start_time": "2022-12-31T09:54:09.343Z"
   },
   {
    "duration": 4,
    "start_time": "2022-12-31T09:54:10.927Z"
   },
   {
    "duration": 8,
    "start_time": "2022-12-31T09:54:11.686Z"
   },
   {
    "duration": 20143,
    "start_time": "2022-12-31T09:54:14.383Z"
   },
   {
    "duration": 20400,
    "start_time": "2022-12-31T09:55:31.311Z"
   },
   {
    "duration": 23,
    "start_time": "2022-12-31T09:58:49.397Z"
   },
   {
    "duration": 23,
    "start_time": "2022-12-31T09:58:54.197Z"
   },
   {
    "duration": 27,
    "start_time": "2022-12-31T09:59:32.237Z"
   },
   {
    "duration": 21,
    "start_time": "2022-12-31T10:01:58.403Z"
   },
   {
    "duration": 28,
    "start_time": "2022-12-31T10:02:19.692Z"
   },
   {
    "duration": 22,
    "start_time": "2022-12-31T10:02:26.242Z"
   },
   {
    "duration": 22,
    "start_time": "2022-12-31T10:03:16.763Z"
   },
   {
    "duration": 4,
    "start_time": "2022-12-31T10:04:11.834Z"
   },
   {
    "duration": 51,
    "start_time": "2022-12-31T10:04:24.321Z"
   },
   {
    "duration": 44,
    "start_time": "2022-12-31T10:04:28.258Z"
   },
   {
    "duration": 16,
    "start_time": "2022-12-31T10:04:49.346Z"
   },
   {
    "duration": 15,
    "start_time": "2022-12-31T10:05:20.964Z"
   },
   {
    "duration": 5,
    "start_time": "2022-12-31T10:06:01.018Z"
   },
   {
    "duration": 12,
    "start_time": "2022-12-31T10:06:07.233Z"
   },
   {
    "duration": 8,
    "start_time": "2022-12-31T10:06:28.888Z"
   },
   {
    "duration": 613,
    "start_time": "2022-12-31T10:06:47.329Z"
   },
   {
    "duration": 7,
    "start_time": "2022-12-31T10:06:58.152Z"
   },
   {
    "duration": 53,
    "start_time": "2022-12-31T10:07:10.449Z"
   },
   {
    "duration": 43,
    "start_time": "2022-12-31T10:07:46.089Z"
   },
   {
    "duration": 36,
    "start_time": "2022-12-31T10:07:55.000Z"
   },
   {
    "duration": 18,
    "start_time": "2022-12-31T10:07:59.928Z"
   },
   {
    "duration": 24,
    "start_time": "2022-12-31T10:08:41.447Z"
   },
   {
    "duration": 25,
    "start_time": "2022-12-31T10:09:08.855Z"
   },
   {
    "duration": 29,
    "start_time": "2022-12-31T10:09:19.167Z"
   },
   {
    "duration": 48,
    "start_time": "2022-12-31T10:15:45.261Z"
   },
   {
    "duration": 70,
    "start_time": "2022-12-31T10:15:52.267Z"
   },
   {
    "duration": 67,
    "start_time": "2022-12-31T10:16:11.339Z"
   },
   {
    "duration": 83,
    "start_time": "2022-12-31T10:19:49.609Z"
   },
   {
    "duration": 85,
    "start_time": "2022-12-31T10:23:54.487Z"
   },
   {
    "duration": 19,
    "start_time": "2022-12-31T10:25:26.247Z"
   },
   {
    "duration": 42,
    "start_time": "2022-12-31T10:26:21.638Z"
   },
   {
    "duration": 20,
    "start_time": "2022-12-31T10:26:37.671Z"
   },
   {
    "duration": 20,
    "start_time": "2022-12-31T10:27:32.974Z"
   },
   {
    "duration": 84,
    "start_time": "2022-12-31T10:50:12.466Z"
   },
   {
    "duration": 28,
    "start_time": "2022-12-31T10:50:14.386Z"
   },
   {
    "duration": 15,
    "start_time": "2022-12-31T10:53:40.152Z"
   },
   {
    "duration": 7,
    "start_time": "2022-12-31T10:54:18.337Z"
   },
   {
    "duration": 6,
    "start_time": "2022-12-31T10:54:35.759Z"
   },
   {
    "duration": 10,
    "start_time": "2022-12-31T10:55:06.835Z"
   },
   {
    "duration": 8,
    "start_time": "2022-12-31T10:55:51.338Z"
   },
   {
    "duration": 8,
    "start_time": "2022-12-31T11:01:59.795Z"
   },
   {
    "duration": 7,
    "start_time": "2022-12-31T11:02:15.963Z"
   },
   {
    "duration": 6,
    "start_time": "2022-12-31T11:02:34.659Z"
   },
   {
    "duration": 9,
    "start_time": "2022-12-31T11:02:43.834Z"
   },
   {
    "duration": 9,
    "start_time": "2022-12-31T11:02:53.267Z"
   },
   {
    "duration": 7,
    "start_time": "2022-12-31T11:03:23.428Z"
   },
   {
    "duration": 9,
    "start_time": "2022-12-31T11:03:34.427Z"
   },
   {
    "duration": 9,
    "start_time": "2022-12-31T11:03:42.355Z"
   },
   {
    "duration": 7,
    "start_time": "2022-12-31T11:03:52.299Z"
   },
   {
    "duration": 19,
    "start_time": "2022-12-31T11:07:42.352Z"
   },
   {
    "duration": 21,
    "start_time": "2022-12-31T11:07:47.144Z"
   },
   {
    "duration": 22,
    "start_time": "2022-12-31T11:08:27.144Z"
   },
   {
    "duration": 20,
    "start_time": "2022-12-31T11:08:37.280Z"
   },
   {
    "duration": 52,
    "start_time": "2022-12-31T11:08:46.743Z"
   },
   {
    "duration": 25,
    "start_time": "2022-12-31T11:08:54.831Z"
   },
   {
    "duration": 31,
    "start_time": "2022-12-31T11:09:37.295Z"
   },
   {
    "duration": 18,
    "start_time": "2022-12-31T11:10:00.775Z"
   },
   {
    "duration": 18,
    "start_time": "2022-12-31T11:13:19.805Z"
   },
   {
    "duration": 75,
    "start_time": "2022-12-31T11:16:19.871Z"
   },
   {
    "duration": 73,
    "start_time": "2022-12-31T11:17:02.131Z"
   },
   {
    "duration": 99,
    "start_time": "2022-12-31T11:17:08.186Z"
   },
   {
    "duration": 85,
    "start_time": "2022-12-31T11:17:18.258Z"
   },
   {
    "duration": 65,
    "start_time": "2022-12-31T11:18:28.842Z"
   },
   {
    "duration": 69,
    "start_time": "2022-12-31T11:20:44.424Z"
   },
   {
    "duration": 54,
    "start_time": "2022-12-31T16:55:13.133Z"
   },
   {
    "duration": 404,
    "start_time": "2022-12-31T18:32:53.965Z"
   },
   {
    "duration": 18,
    "start_time": "2022-12-31T18:32:54.371Z"
   },
   {
    "duration": 13,
    "start_time": "2022-12-31T18:32:54.391Z"
   },
   {
    "duration": 10,
    "start_time": "2022-12-31T18:32:54.406Z"
   },
   {
    "duration": 30,
    "start_time": "2022-12-31T18:32:54.417Z"
   },
   {
    "duration": 3,
    "start_time": "2022-12-31T18:32:54.448Z"
   },
   {
    "duration": 10,
    "start_time": "2022-12-31T18:32:54.453Z"
   },
   {
    "duration": 7,
    "start_time": "2022-12-31T18:32:54.464Z"
   },
   {
    "duration": 12,
    "start_time": "2022-12-31T18:32:54.473Z"
   },
   {
    "duration": 6,
    "start_time": "2022-12-31T18:32:54.487Z"
   },
   {
    "duration": 47,
    "start_time": "2022-12-31T18:32:54.494Z"
   },
   {
    "duration": 9,
    "start_time": "2022-12-31T18:32:54.543Z"
   },
   {
    "duration": 3,
    "start_time": "2022-12-31T18:32:54.554Z"
   },
   {
    "duration": 14,
    "start_time": "2022-12-31T18:32:54.559Z"
   },
   {
    "duration": 20,
    "start_time": "2022-12-31T18:32:54.574Z"
   },
   {
    "duration": 17,
    "start_time": "2022-12-31T18:32:54.615Z"
   },
   {
    "duration": 3,
    "start_time": "2022-12-31T18:32:54.634Z"
   },
   {
    "duration": 13,
    "start_time": "2022-12-31T18:32:54.639Z"
   },
   {
    "duration": 10,
    "start_time": "2022-12-31T18:32:54.653Z"
   },
   {
    "duration": 3,
    "start_time": "2022-12-31T18:32:54.664Z"
   },
   {
    "duration": 14,
    "start_time": "2022-12-31T18:32:54.669Z"
   },
   {
    "duration": 43,
    "start_time": "2022-12-31T18:32:54.685Z"
   },
   {
    "duration": 19,
    "start_time": "2022-12-31T18:32:54.729Z"
   },
   {
    "duration": 94,
    "start_time": "2022-12-31T18:32:54.749Z"
   },
   {
    "duration": 60,
    "start_time": "2022-12-31T18:32:54.845Z"
   },
   {
    "duration": 431,
    "start_time": "2023-01-04T09:41:33.551Z"
   },
   {
    "duration": 25,
    "start_time": "2023-01-04T09:41:35.837Z"
   },
   {
    "duration": 9,
    "start_time": "2023-01-04T09:41:40.749Z"
   },
   {
    "duration": 32,
    "start_time": "2023-01-04T09:41:42.429Z"
   },
   {
    "duration": 3,
    "start_time": "2023-01-04T09:41:43.477Z"
   },
   {
    "duration": 8,
    "start_time": "2023-01-04T09:41:44.614Z"
   },
   {
    "duration": 4,
    "start_time": "2023-01-04T09:41:46.741Z"
   },
   {
    "duration": 7,
    "start_time": "2023-01-04T09:41:47.820Z"
   },
   {
    "duration": 4,
    "start_time": "2023-01-04T09:41:48.717Z"
   },
   {
    "duration": 31,
    "start_time": "2023-01-04T09:41:51.701Z"
   },
   {
    "duration": 9,
    "start_time": "2023-01-04T09:41:52.693Z"
   },
   {
    "duration": 4,
    "start_time": "2023-01-04T09:41:53.981Z"
   },
   {
    "duration": 17,
    "start_time": "2023-01-04T09:41:55.044Z"
   },
   {
    "duration": 7,
    "start_time": "2023-01-04T09:42:00.685Z"
   },
   {
    "duration": 22,
    "start_time": "2023-01-04T09:42:16.094Z"
   },
   {
    "duration": 17,
    "start_time": "2023-01-04T09:42:17.292Z"
   },
   {
    "duration": 4,
    "start_time": "2023-01-04T09:42:18.708Z"
   },
   {
    "duration": 10,
    "start_time": "2023-01-04T09:42:20.028Z"
   },
   {
    "duration": 6,
    "start_time": "2023-01-04T09:42:20.892Z"
   },
   {
    "duration": 4,
    "start_time": "2023-01-04T09:42:22.740Z"
   },
   {
    "duration": 9,
    "start_time": "2023-01-04T09:42:23.573Z"
   },
   {
    "duration": 8,
    "start_time": "2023-01-04T09:42:28.588Z"
   },
   {
    "duration": 6,
    "start_time": "2023-01-04T09:44:13.516Z"
   },
   {
    "duration": 4,
    "start_time": "2023-01-04T09:44:32.436Z"
   },
   {
    "duration": 60,
    "start_time": "2023-01-04T09:53:47.950Z"
   },
   {
    "duration": 27,
    "start_time": "2023-01-04T09:53:52.277Z"
   },
   {
    "duration": 29,
    "start_time": "2023-01-04T09:54:29.045Z"
   },
   {
    "duration": 22,
    "start_time": "2023-01-04T09:54:39.389Z"
   },
   {
    "duration": 22,
    "start_time": "2023-01-04T09:55:33.477Z"
   },
   {
    "duration": 13,
    "start_time": "2023-01-04T09:57:04.780Z"
   },
   {
    "duration": 19,
    "start_time": "2023-01-04T10:00:14.196Z"
   },
   {
    "duration": 7,
    "start_time": "2023-01-04T10:00:20.507Z"
   },
   {
    "duration": 23,
    "start_time": "2023-01-04T10:00:24.907Z"
   },
   {
    "duration": 9,
    "start_time": "2023-01-04T11:52:04.929Z"
   },
   {
    "duration": 14,
    "start_time": "2023-01-04T11:56:22.247Z"
   },
   {
    "duration": 9,
    "start_time": "2023-01-04T11:56:32.646Z"
   },
   {
    "duration": 6,
    "start_time": "2023-01-04T11:59:18.517Z"
   },
   {
    "duration": 8,
    "start_time": "2023-01-04T12:00:57.885Z"
   },
   {
    "duration": 9,
    "start_time": "2023-01-04T12:02:12.124Z"
   },
   {
    "duration": 9,
    "start_time": "2023-01-04T12:03:29.506Z"
   },
   {
    "duration": 11,
    "start_time": "2023-01-04T12:17:00.827Z"
   },
   {
    "duration": 8,
    "start_time": "2023-01-04T12:22:34.529Z"
   },
   {
    "duration": 57,
    "start_time": "2023-01-04T13:18:53.991Z"
   },
   {
    "duration": 7,
    "start_time": "2023-01-04T13:20:32.432Z"
   },
   {
    "duration": 7,
    "start_time": "2023-01-04T13:22:51.077Z"
   },
   {
    "duration": 8,
    "start_time": "2023-01-04T13:26:34.907Z"
   },
   {
    "duration": 80,
    "start_time": "2023-01-04T13:46:56.089Z"
   },
   {
    "duration": 79,
    "start_time": "2023-01-04T15:24:10.800Z"
   },
   {
    "duration": 11,
    "start_time": "2023-01-04T15:26:27.214Z"
   },
   {
    "duration": 14,
    "start_time": "2023-01-04T15:37:22.280Z"
   },
   {
    "duration": 10,
    "start_time": "2023-01-04T15:37:33.409Z"
   },
   {
    "duration": 14,
    "start_time": "2023-01-04T15:37:44.720Z"
   },
   {
    "duration": 3,
    "start_time": "2023-01-04T16:17:29.038Z"
   },
   {
    "duration": 10,
    "start_time": "2023-01-04T16:17:35.861Z"
   },
   {
    "duration": 12,
    "start_time": "2023-01-04T16:17:52.957Z"
   },
   {
    "duration": 8,
    "start_time": "2023-01-04T16:18:30.397Z"
   },
   {
    "duration": 5,
    "start_time": "2023-01-04T16:18:42.453Z"
   },
   {
    "duration": 4,
    "start_time": "2023-01-04T16:18:53.645Z"
   },
   {
    "duration": 6,
    "start_time": "2023-01-04T16:19:02.813Z"
   },
   {
    "duration": 25,
    "start_time": "2023-01-04T16:19:32.197Z"
   },
   {
    "duration": 5,
    "start_time": "2023-01-04T16:19:52.853Z"
   },
   {
    "duration": 4,
    "start_time": "2023-01-04T16:20:39.620Z"
   },
   {
    "duration": 6,
    "start_time": "2023-01-04T16:20:55.812Z"
   },
   {
    "duration": 735,
    "start_time": "2023-01-04T16:22:42.643Z"
   },
   {
    "duration": 1160,
    "start_time": "2023-01-04T16:23:01.194Z"
   },
   {
    "duration": 5,
    "start_time": "2023-01-04T16:28:27.376Z"
   },
   {
    "duration": 5,
    "start_time": "2023-01-04T16:28:34.135Z"
   },
   {
    "duration": 7,
    "start_time": "2023-01-04T16:28:39.383Z"
   },
   {
    "duration": 4,
    "start_time": "2023-01-04T16:28:46.487Z"
   },
   {
    "duration": 5,
    "start_time": "2023-01-04T16:29:11.047Z"
   },
   {
    "duration": 8,
    "start_time": "2023-01-04T16:29:26.095Z"
   },
   {
    "duration": 4,
    "start_time": "2023-01-04T16:29:43.777Z"
   },
   {
    "duration": 10,
    "start_time": "2023-01-04T16:29:48.638Z"
   },
   {
    "duration": 5,
    "start_time": "2023-01-04T16:29:59.278Z"
   },
   {
    "duration": 5,
    "start_time": "2023-01-04T16:34:00.909Z"
   },
   {
    "duration": 8,
    "start_time": "2023-01-04T16:34:45.996Z"
   },
   {
    "duration": 11,
    "start_time": "2023-01-04T16:56:50.805Z"
   },
   {
    "duration": 13,
    "start_time": "2023-01-04T16:57:28.185Z"
   },
   {
    "duration": 7,
    "start_time": "2023-01-04T16:57:52.560Z"
   },
   {
    "duration": 9,
    "start_time": "2023-01-04T16:57:57.696Z"
   },
   {
    "duration": 75,
    "start_time": "2023-01-04T16:58:25.880Z"
   },
   {
    "duration": 9,
    "start_time": "2023-01-04T16:58:31.793Z"
   },
   {
    "duration": 47,
    "start_time": "2023-01-04T20:38:13.505Z"
   },
   {
    "duration": 470,
    "start_time": "2023-01-04T20:38:29.137Z"
   },
   {
    "duration": 27,
    "start_time": "2023-01-04T20:38:38.266Z"
   },
   {
    "duration": 9,
    "start_time": "2023-01-04T20:38:46.404Z"
   },
   {
    "duration": 5,
    "start_time": "2023-01-04T20:39:21.733Z"
   },
   {
    "duration": 3,
    "start_time": "2023-01-04T20:39:37.996Z"
   },
   {
    "duration": 6,
    "start_time": "2023-01-04T20:39:43.700Z"
   },
   {
    "duration": 9,
    "start_time": "2023-01-04T20:40:06.078Z"
   },
   {
    "duration": 8,
    "start_time": "2023-01-04T20:40:40.545Z"
   },
   {
    "duration": 8,
    "start_time": "2023-01-04T20:40:59.827Z"
   },
   {
    "duration": 8,
    "start_time": "2023-01-04T20:41:09.526Z"
   },
   {
    "duration": 6,
    "start_time": "2023-01-04T20:41:20.229Z"
   },
   {
    "duration": 7,
    "start_time": "2023-01-04T20:41:30.502Z"
   },
   {
    "duration": 9,
    "start_time": "2023-01-04T20:41:37.853Z"
   },
   {
    "duration": 9,
    "start_time": "2023-01-04T20:42:09.979Z"
   },
   {
    "duration": 11,
    "start_time": "2023-01-04T20:42:20.411Z"
   },
   {
    "duration": 17,
    "start_time": "2023-01-04T20:42:28.184Z"
   },
   {
    "duration": 18,
    "start_time": "2023-01-04T20:42:39.493Z"
   },
   {
    "duration": 15,
    "start_time": "2023-01-04T20:42:59.040Z"
   },
   {
    "duration": 13,
    "start_time": "2023-01-04T20:43:39.115Z"
   },
   {
    "duration": 9,
    "start_time": "2023-01-04T20:47:32.370Z"
   },
   {
    "duration": 5,
    "start_time": "2023-01-04T20:47:51.114Z"
   },
   {
    "duration": 8,
    "start_time": "2023-01-04T20:48:17.213Z"
   },
   {
    "duration": 6,
    "start_time": "2023-01-04T20:48:34.224Z"
   },
   {
    "duration": 5,
    "start_time": "2023-01-04T20:49:06.949Z"
   },
   {
    "duration": 10,
    "start_time": "2023-01-04T20:49:12.823Z"
   },
   {
    "duration": 6,
    "start_time": "2023-01-04T20:49:28.864Z"
   },
   {
    "duration": 13,
    "start_time": "2023-01-04T20:49:31.690Z"
   },
   {
    "duration": 6,
    "start_time": "2023-01-04T20:49:42.891Z"
   },
   {
    "duration": 12,
    "start_time": "2023-01-04T20:49:44.497Z"
   },
   {
    "duration": 6,
    "start_time": "2023-01-04T20:49:50.602Z"
   },
   {
    "duration": 15,
    "start_time": "2023-01-04T20:51:23.915Z"
   },
   {
    "duration": 3,
    "start_time": "2023-01-04T20:52:53.529Z"
   },
   {
    "duration": 1393,
    "start_time": "2023-01-04T20:53:17.310Z"
   },
   {
    "duration": 45,
    "start_time": "2023-01-05T09:56:34.511Z"
   },
   {
    "duration": 520,
    "start_time": "2023-01-05T09:56:47.190Z"
   },
   {
    "duration": 8,
    "start_time": "2023-01-05T09:56:57.099Z"
   },
   {
    "duration": 20,
    "start_time": "2023-01-05T09:57:34.716Z"
   },
   {
    "duration": 5,
    "start_time": "2023-01-05T09:57:48.561Z"
   },
   {
    "duration": 36,
    "start_time": "2023-01-05T09:58:12.157Z"
   },
   {
    "duration": 4,
    "start_time": "2023-01-05T09:58:37.437Z"
   },
   {
    "duration": 6,
    "start_time": "2023-01-05T09:59:20.972Z"
   },
   {
    "duration": 14,
    "start_time": "2023-01-05T09:59:23.259Z"
   },
   {
    "duration": 13,
    "start_time": "2023-01-05T09:59:58.945Z"
   },
   {
    "duration": 19,
    "start_time": "2023-01-05T10:01:02.072Z"
   },
   {
    "duration": 12,
    "start_time": "2023-01-05T10:01:52.496Z"
   },
   {
    "duration": 12,
    "start_time": "2023-01-05T10:01:59.116Z"
   },
   {
    "duration": 10,
    "start_time": "2023-01-05T10:02:07.958Z"
   },
   {
    "duration": 21,
    "start_time": "2023-01-05T10:02:14.686Z"
   },
   {
    "duration": 6,
    "start_time": "2023-01-05T10:02:54.177Z"
   },
   {
    "duration": 24,
    "start_time": "2023-01-05T10:03:16.235Z"
   },
   {
    "duration": 23,
    "start_time": "2023-01-05T10:07:02.247Z"
   },
   {
    "duration": 27,
    "start_time": "2023-01-05T10:14:00.812Z"
   },
   {
    "duration": 10,
    "start_time": "2023-01-05T11:52:00.201Z"
   },
   {
    "duration": 8,
    "start_time": "2023-01-05T11:52:15.556Z"
   },
   {
    "duration": 483,
    "start_time": "2023-01-05T13:21:19.684Z"
   },
   {
    "duration": 21,
    "start_time": "2023-01-05T13:21:20.170Z"
   },
   {
    "duration": 29,
    "start_time": "2023-01-05T13:21:20.192Z"
   },
   {
    "duration": 13,
    "start_time": "2023-01-05T13:21:20.223Z"
   },
   {
    "duration": 5,
    "start_time": "2023-01-05T13:21:20.238Z"
   },
   {
    "duration": 83,
    "start_time": "2023-01-05T13:21:20.245Z"
   },
   {
    "duration": 0,
    "start_time": "2023-01-05T13:21:20.332Z"
   },
   {
    "duration": 0,
    "start_time": "2023-01-05T13:21:20.333Z"
   },
   {
    "duration": 0,
    "start_time": "2023-01-05T13:21:20.334Z"
   },
   {
    "duration": 0,
    "start_time": "2023-01-05T13:21:20.335Z"
   },
   {
    "duration": 0,
    "start_time": "2023-01-05T13:21:20.336Z"
   },
   {
    "duration": 0,
    "start_time": "2023-01-05T13:21:20.337Z"
   },
   {
    "duration": 0,
    "start_time": "2023-01-05T13:21:20.338Z"
   },
   {
    "duration": 0,
    "start_time": "2023-01-05T13:21:20.340Z"
   },
   {
    "duration": 0,
    "start_time": "2023-01-05T13:21:20.341Z"
   },
   {
    "duration": 0,
    "start_time": "2023-01-05T13:21:20.342Z"
   },
   {
    "duration": 0,
    "start_time": "2023-01-05T13:21:20.343Z"
   },
   {
    "duration": 0,
    "start_time": "2023-01-05T13:21:20.344Z"
   },
   {
    "duration": 0,
    "start_time": "2023-01-05T13:21:20.345Z"
   },
   {
    "duration": 0,
    "start_time": "2023-01-05T13:21:20.346Z"
   },
   {
    "duration": 0,
    "start_time": "2023-01-05T13:21:20.347Z"
   },
   {
    "duration": 0,
    "start_time": "2023-01-05T13:21:20.348Z"
   },
   {
    "duration": 0,
    "start_time": "2023-01-05T13:21:20.349Z"
   },
   {
    "duration": 0,
    "start_time": "2023-01-05T13:21:20.350Z"
   },
   {
    "duration": 0,
    "start_time": "2023-01-05T13:21:20.351Z"
   },
   {
    "duration": 0,
    "start_time": "2023-01-05T13:21:20.352Z"
   },
   {
    "duration": 0,
    "start_time": "2023-01-05T13:21:20.353Z"
   },
   {
    "duration": 0,
    "start_time": "2023-01-05T13:21:20.355Z"
   },
   {
    "duration": 0,
    "start_time": "2023-01-05T13:21:20.356Z"
   },
   {
    "duration": 0,
    "start_time": "2023-01-05T13:21:20.357Z"
   },
   {
    "duration": 0,
    "start_time": "2023-01-05T13:21:20.358Z"
   },
   {
    "duration": 0,
    "start_time": "2023-01-05T13:21:20.359Z"
   },
   {
    "duration": 0,
    "start_time": "2023-01-05T13:21:20.360Z"
   },
   {
    "duration": 5,
    "start_time": "2023-01-05T13:21:47.657Z"
   },
   {
    "duration": 32,
    "start_time": "2023-01-05T13:21:53.559Z"
   },
   {
    "duration": 427,
    "start_time": "2023-01-05T13:21:58.664Z"
   },
   {
    "duration": 21,
    "start_time": "2023-01-05T13:21:59.093Z"
   },
   {
    "duration": 15,
    "start_time": "2023-01-05T13:21:59.115Z"
   },
   {
    "duration": 10,
    "start_time": "2023-01-05T13:21:59.131Z"
   },
   {
    "duration": 5,
    "start_time": "2023-01-05T13:21:59.143Z"
   },
   {
    "duration": 7,
    "start_time": "2023-01-05T13:21:59.149Z"
   },
   {
    "duration": 80,
    "start_time": "2023-01-05T13:21:59.157Z"
   },
   {
    "duration": 5,
    "start_time": "2023-01-05T13:21:59.238Z"
   },
   {
    "duration": 13,
    "start_time": "2023-01-05T13:21:59.244Z"
   },
   {
    "duration": 4,
    "start_time": "2023-01-05T13:21:59.259Z"
   },
   {
    "duration": 11,
    "start_time": "2023-01-05T13:21:59.265Z"
   },
   {
    "duration": 6,
    "start_time": "2023-01-05T13:21:59.278Z"
   },
   {
    "duration": 53,
    "start_time": "2023-01-05T13:21:59.285Z"
   },
   {
    "duration": 13,
    "start_time": "2023-01-05T13:21:59.340Z"
   },
   {
    "duration": 14,
    "start_time": "2023-01-05T13:21:59.355Z"
   },
   {
    "duration": 20,
    "start_time": "2023-01-05T13:21:59.371Z"
   },
   {
    "duration": 25,
    "start_time": "2023-01-05T13:21:59.392Z"
   },
   {
    "duration": 15,
    "start_time": "2023-01-05T13:21:59.418Z"
   },
   {
    "duration": 3,
    "start_time": "2023-01-05T13:21:59.434Z"
   },
   {
    "duration": 13,
    "start_time": "2023-01-05T13:21:59.439Z"
   },
   {
    "duration": 8,
    "start_time": "2023-01-05T13:21:59.453Z"
   },
   {
    "duration": 4,
    "start_time": "2023-01-05T13:21:59.463Z"
   },
   {
    "duration": 9,
    "start_time": "2023-01-05T13:21:59.469Z"
   },
   {
    "duration": 51,
    "start_time": "2023-01-05T13:21:59.480Z"
   },
   {
    "duration": 10,
    "start_time": "2023-01-05T13:21:59.533Z"
   },
   {
    "duration": 19,
    "start_time": "2023-01-05T13:21:59.545Z"
   },
   {
    "duration": 8,
    "start_time": "2023-01-05T13:21:59.565Z"
   },
   {
    "duration": 97,
    "start_time": "2023-01-05T13:21:59.574Z"
   },
   {
    "duration": 84,
    "start_time": "2023-01-05T13:21:59.673Z"
   },
   {
    "duration": 6,
    "start_time": "2023-01-05T13:21:59.759Z"
   },
   {
    "duration": 8,
    "start_time": "2023-01-05T13:21:59.767Z"
   },
   {
    "duration": 6,
    "start_time": "2023-01-05T13:21:59.778Z"
   },
   {
    "duration": 16,
    "start_time": "2023-01-05T13:21:59.786Z"
   },
   {
    "duration": 69,
    "start_time": "2023-01-05T13:24:00.598Z"
   },
   {
    "duration": 15,
    "start_time": "2023-01-05T13:24:00.669Z"
   },
   {
    "duration": 30,
    "start_time": "2023-01-05T13:24:00.686Z"
   },
   {
    "duration": 33,
    "start_time": "2023-01-05T13:24:00.719Z"
   },
   {
    "duration": 25,
    "start_time": "2023-01-05T13:24:00.754Z"
   },
   {
    "duration": 21,
    "start_time": "2023-01-05T13:24:00.781Z"
   },
   {
    "duration": 85,
    "start_time": "2023-01-05T13:24:00.804Z"
   },
   {
    "duration": 4,
    "start_time": "2023-01-05T13:24:00.891Z"
   },
   {
    "duration": 55,
    "start_time": "2023-01-05T13:24:00.897Z"
   },
   {
    "duration": 24,
    "start_time": "2023-01-05T13:24:00.955Z"
   },
   {
    "duration": 56,
    "start_time": "2023-01-05T13:24:00.981Z"
   },
   {
    "duration": 31,
    "start_time": "2023-01-05T13:24:01.039Z"
   },
   {
    "duration": 53,
    "start_time": "2023-01-05T13:24:01.071Z"
   },
   {
    "duration": 9,
    "start_time": "2023-01-05T13:24:01.126Z"
   },
   {
    "duration": 29,
    "start_time": "2023-01-05T13:24:01.137Z"
   },
   {
    "duration": 73,
    "start_time": "2023-01-05T13:24:01.167Z"
   },
   {
    "duration": 35,
    "start_time": "2023-01-05T13:24:01.242Z"
   },
   {
    "duration": 39,
    "start_time": "2023-01-05T13:24:01.278Z"
   },
   {
    "duration": 9,
    "start_time": "2023-01-05T13:24:01.319Z"
   },
   {
    "duration": 28,
    "start_time": "2023-01-05T13:24:01.330Z"
   },
   {
    "duration": 30,
    "start_time": "2023-01-05T13:24:01.360Z"
   },
   {
    "duration": 21,
    "start_time": "2023-01-05T13:24:01.392Z"
   },
   {
    "duration": 19,
    "start_time": "2023-01-05T13:24:01.415Z"
   },
   {
    "duration": 45,
    "start_time": "2023-01-05T13:24:01.436Z"
   },
   {
    "duration": 10,
    "start_time": "2023-01-05T13:24:01.483Z"
   },
   {
    "duration": 26,
    "start_time": "2023-01-05T13:24:01.495Z"
   },
   {
    "duration": 5,
    "start_time": "2023-01-05T13:24:31.531Z"
   },
   {
    "duration": 9,
    "start_time": "2023-01-05T13:24:57.440Z"
   },
   {
    "duration": 464,
    "start_time": "2023-01-05T13:27:38.117Z"
   },
   {
    "duration": 22,
    "start_time": "2023-01-05T13:27:38.583Z"
   },
   {
    "duration": 16,
    "start_time": "2023-01-05T13:27:38.606Z"
   },
   {
    "duration": 9,
    "start_time": "2023-01-05T13:27:38.624Z"
   },
   {
    "duration": 11,
    "start_time": "2023-01-05T13:27:38.635Z"
   },
   {
    "duration": 7,
    "start_time": "2023-01-05T13:27:38.648Z"
   },
   {
    "duration": 45,
    "start_time": "2023-01-05T13:27:38.657Z"
   },
   {
    "duration": 4,
    "start_time": "2023-01-05T13:27:38.703Z"
   },
   {
    "duration": 10,
    "start_time": "2023-01-05T13:27:38.716Z"
   },
   {
    "duration": 6,
    "start_time": "2023-01-05T13:27:38.727Z"
   },
   {
    "duration": 20,
    "start_time": "2023-01-05T13:27:38.735Z"
   },
   {
    "duration": 22,
    "start_time": "2023-01-05T13:27:38.756Z"
   },
   {
    "duration": 32,
    "start_time": "2023-01-05T13:27:38.780Z"
   },
   {
    "duration": 9,
    "start_time": "2023-01-05T13:27:38.816Z"
   },
   {
    "duration": 3,
    "start_time": "2023-01-05T13:27:38.827Z"
   },
   {
    "duration": 13,
    "start_time": "2023-01-05T13:27:38.832Z"
   },
   {
    "duration": 18,
    "start_time": "2023-01-05T13:27:38.846Z"
   },
   {
    "duration": 15,
    "start_time": "2023-01-05T13:27:38.865Z"
   },
   {
    "duration": 3,
    "start_time": "2023-01-05T13:27:38.881Z"
   },
   {
    "duration": 37,
    "start_time": "2023-01-05T13:27:38.886Z"
   },
   {
    "duration": 12,
    "start_time": "2023-01-05T13:27:38.925Z"
   },
   {
    "duration": 4,
    "start_time": "2023-01-05T13:27:38.939Z"
   },
   {
    "duration": 17,
    "start_time": "2023-01-05T13:27:38.945Z"
   },
   {
    "duration": 26,
    "start_time": "2023-01-05T13:27:38.963Z"
   },
   {
    "duration": 30,
    "start_time": "2023-01-05T13:27:38.991Z"
   },
   {
    "duration": 8,
    "start_time": "2023-01-05T13:27:39.023Z"
   },
   {
    "duration": 8,
    "start_time": "2023-01-05T13:27:39.032Z"
   },
   {
    "duration": 24,
    "start_time": "2023-01-05T13:27:39.042Z"
   },
   {
    "duration": 8,
    "start_time": "2023-01-05T13:27:39.068Z"
   },
   {
    "duration": 113,
    "start_time": "2023-01-05T13:27:39.078Z"
   },
   {
    "duration": 74,
    "start_time": "2023-01-05T13:27:39.193Z"
   },
   {
    "duration": 5,
    "start_time": "2023-01-05T13:27:39.268Z"
   },
   {
    "duration": 6,
    "start_time": "2023-01-05T13:27:39.275Z"
   },
   {
    "duration": 5,
    "start_time": "2023-01-05T13:27:39.282Z"
   },
   {
    "duration": 27,
    "start_time": "2023-01-05T13:27:39.289Z"
   }
  ],
  "colab": {
   "name": "dpp_template_part2.ipynb",
   "provenance": []
  },
  "kernelspec": {
   "display_name": "Python 3 (ipykernel)",
   "language": "python",
   "name": "python3"
  },
  "language_info": {
   "codemirror_mode": {
    "name": "ipython",
    "version": 3
   },
   "file_extension": ".py",
   "mimetype": "text/x-python",
   "name": "python",
   "nbconvert_exporter": "python",
   "pygments_lexer": "ipython3",
   "version": "3.9.13"
  },
  "toc": {
   "base_numbering": 1,
   "nav_menu": {},
   "number_sections": true,
   "sideBar": true,
   "skip_h1_title": true,
   "title_cell": "Table of Contents",
   "title_sidebar": "Contents",
   "toc_cell": false,
   "toc_position": {},
   "toc_section_display": true,
   "toc_window_display": true
  }
 },
 "nbformat": 4,
 "nbformat_minor": 5
}
